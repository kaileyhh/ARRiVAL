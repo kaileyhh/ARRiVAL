{
 "cells": [
  {
   "cell_type": "markdown",
   "metadata": {},
   "source": [
    "### General code for converting fastq to fasta and running BLAST\n",
    "* opens fastq file and converts it to fasta by writing the first 2 of 4 lines\n",
    "* BLASTs it using NCBIWWW\n",
    "* writes result into `name_res.xml`"
   ]
  },
  {
   "cell_type": "code",
   "execution_count": 2,
   "metadata": {},
   "outputs": [],
   "source": [
    "# import packages for BLAST API\n",
    "from Bio.Blast import NCBIWWW\n",
    "from Bio.Blast import NCBIXML\n",
    "import csv\n",
    "import re\n",
    "\n",
    "filename = \"ERR4775534\"\n",
    "filepath = \"data/ibs/\"\n",
    "resultspath = \"results/ibs/\""
   ]
  },
  {
   "cell_type": "code",
   "execution_count": 3,
   "metadata": {},
   "outputs": [],
   "source": [
    "# fastq to fasta\n",
    "file = open(filepath + filename + \".fastq\", \"r\")\n",
    "file_fasta = open(filepath + filename + \".fasta\", \"w\")\n",
    "lines = file.readlines()\n",
    "\n",
    "counter = 1\n",
    "\n",
    "for line in lines:\n",
    "    if counter == 1:\n",
    "        file_fasta.write(\">\")\n",
    "        file_fasta.write(line)\n",
    "    if counter == 2:\n",
    "        file_fasta.write(line)\n",
    "    counter = (counter + 1) % 4\n",
    "\n",
    "file.close()\n",
    "file_fasta.close()"
   ]
  },
  {
   "cell_type": "code",
   "execution_count": 5,
   "metadata": {},
   "outputs": [
    {
     "ename": "ValueError",
     "evalue": "No RID and no RTOE found in the 'please wait' page, there was probably an error in your request but we could not extract a helpful error message.",
     "output_type": "error",
     "traceback": [
      "\u001b[0;31m---------------------------------------------------------------------------\u001b[0m",
      "\u001b[0;31mValueError\u001b[0m                                Traceback (most recent call last)",
      "Cell \u001b[0;32mIn[5], line 2\u001b[0m\n\u001b[1;32m      1\u001b[0m sequence_data \u001b[38;5;241m=\u001b[39m \u001b[38;5;28mopen\u001b[39m(filepath \u001b[38;5;241m+\u001b[39m filename \u001b[38;5;241m+\u001b[39m \u001b[38;5;124m\"\u001b[39m\u001b[38;5;124m.fasta\u001b[39m\u001b[38;5;124m\"\u001b[39m, \u001b[38;5;124m\"\u001b[39m\u001b[38;5;124mr\u001b[39m\u001b[38;5;124m\"\u001b[39m)\u001b[38;5;241m.\u001b[39mread()\n\u001b[0;32m----> 2\u001b[0m result_handle \u001b[38;5;241m=\u001b[39m \u001b[43mNCBIWWW\u001b[49m\u001b[38;5;241;43m.\u001b[39;49m\u001b[43mqblast\u001b[49m\u001b[43m(\u001b[49m\u001b[38;5;124;43m\"\u001b[39;49m\u001b[38;5;124;43mblastn\u001b[39;49m\u001b[38;5;124;43m\"\u001b[39;49m\u001b[43m,\u001b[49m\u001b[43m \u001b[49m\u001b[38;5;124;43m\"\u001b[39;49m\u001b[38;5;124;43mnt\u001b[39;49m\u001b[38;5;124;43m\"\u001b[39;49m\u001b[43m,\u001b[49m\u001b[43m \u001b[49m\u001b[43msequence_data\u001b[49m\u001b[43m,\u001b[49m\u001b[43m \u001b[49m\u001b[43mformat_type\u001b[49m\u001b[38;5;241;43m=\u001b[39;49m\u001b[38;5;124;43m'\u001b[39;49m\u001b[38;5;124;43mHTML\u001b[39;49m\u001b[38;5;124;43m'\u001b[39;49m\u001b[43m)\u001b[49m \n\u001b[1;32m      3\u001b[0m result_handle\n",
      "File \u001b[0;32m~/Library/Python/3.9/lib/python/site-packages/Bio/Blast/NCBIWWW.py:232\u001b[0m, in \u001b[0;36mqblast\u001b[0;34m(program, database, sequence, url_base, auto_format, composition_based_statistics, db_genetic_code, endpoints, entrez_query, expect, filter, gapcosts, genetic_code, hitlist_size, i_thresh, layout, lcase_mask, matrix_name, nucl_penalty, nucl_reward, other_advanced, perc_ident, phi_pattern, query_file, query_believe_defline, query_from, query_to, searchsp_eff, service, threshold, ungapped_alignment, word_size, short_query, alignments, alignment_view, descriptions, entrez_links_new_window, expect_low, expect_high, format_entrez_query, format_object, format_type, ncbi_gi, results_file, show_overview, megablast, template_type, template_length, username, password)\u001b[0m\n\u001b[1;32m    228\u001b[0m handle \u001b[38;5;241m=\u001b[39m urlopen(request)\n\u001b[1;32m    230\u001b[0m \u001b[38;5;66;03m# Format the \"Get\" command, which gets the formatted results from qblast\u001b[39;00m\n\u001b[1;32m    231\u001b[0m \u001b[38;5;66;03m# Parameters taken from http://www.ncbi.nlm.nih.gov/BLAST/Doc/node6.html on 9 July 2007\u001b[39;00m\n\u001b[0;32m--> 232\u001b[0m rid, rtoe \u001b[38;5;241m=\u001b[39m \u001b[43m_parse_qblast_ref_page\u001b[49m\u001b[43m(\u001b[49m\u001b[43mhandle\u001b[49m\u001b[43m)\u001b[49m\n\u001b[1;32m    233\u001b[0m parameters \u001b[38;5;241m=\u001b[39m {\n\u001b[1;32m    234\u001b[0m     \u001b[38;5;124m\"\u001b[39m\u001b[38;5;124mALIGNMENTS\u001b[39m\u001b[38;5;124m\"\u001b[39m: alignments,\n\u001b[1;32m    235\u001b[0m     \u001b[38;5;124m\"\u001b[39m\u001b[38;5;124mALIGNMENT_VIEW\u001b[39m\u001b[38;5;124m\"\u001b[39m: alignment_view,\n\u001b[0;32m   (...)\u001b[0m\n\u001b[1;32m    248\u001b[0m     \u001b[38;5;124m\"\u001b[39m\u001b[38;5;124mCMD\u001b[39m\u001b[38;5;124m\"\u001b[39m: \u001b[38;5;124m\"\u001b[39m\u001b[38;5;124mGet\u001b[39m\u001b[38;5;124m\"\u001b[39m,\n\u001b[1;32m    249\u001b[0m }\n\u001b[1;32m    250\u001b[0m parameters \u001b[38;5;241m=\u001b[39m {key: value \u001b[38;5;28;01mfor\u001b[39;00m key, value \u001b[38;5;129;01min\u001b[39;00m parameters\u001b[38;5;241m.\u001b[39mitems() \u001b[38;5;28;01mif\u001b[39;00m value \u001b[38;5;129;01mis\u001b[39;00m \u001b[38;5;129;01mnot\u001b[39;00m \u001b[38;5;28;01mNone\u001b[39;00m}\n",
      "File \u001b[0;32m~/Library/Python/3.9/lib/python/site-packages/Bio/Blast/NCBIWWW.py:351\u001b[0m, in \u001b[0;36m_parse_qblast_ref_page\u001b[0;34m(handle)\u001b[0m\n\u001b[1;32m    348\u001b[0m         \u001b[38;5;28;01mraise\u001b[39;00m \u001b[38;5;167;01mValueError\u001b[39;00m(\u001b[38;5;124mf\u001b[39m\u001b[38;5;124m\"\u001b[39m\u001b[38;5;124mError message from NCBI: \u001b[39m\u001b[38;5;132;01m{\u001b[39;00mmsg\u001b[38;5;132;01m}\u001b[39;00m\u001b[38;5;124m\"\u001b[39m)\n\u001b[1;32m    349\u001b[0m     \u001b[38;5;66;03m# We didn't recognise the error layout :(\u001b[39;00m\n\u001b[1;32m    350\u001b[0m     \u001b[38;5;66;03m# print(s)\u001b[39;00m\n\u001b[0;32m--> 351\u001b[0m     \u001b[38;5;28;01mraise\u001b[39;00m \u001b[38;5;167;01mValueError\u001b[39;00m(\n\u001b[1;32m    352\u001b[0m         \u001b[38;5;124m\"\u001b[39m\u001b[38;5;124mNo RID and no RTOE found in the \u001b[39m\u001b[38;5;124m'\u001b[39m\u001b[38;5;124mplease wait\u001b[39m\u001b[38;5;124m'\u001b[39m\u001b[38;5;124m page, \u001b[39m\u001b[38;5;124m\"\u001b[39m\n\u001b[1;32m    353\u001b[0m         \u001b[38;5;124m\"\u001b[39m\u001b[38;5;124mthere was probably an error in your request but we \u001b[39m\u001b[38;5;124m\"\u001b[39m\n\u001b[1;32m    354\u001b[0m         \u001b[38;5;124m\"\u001b[39m\u001b[38;5;124mcould not extract a helpful error message.\u001b[39m\u001b[38;5;124m\"\u001b[39m\n\u001b[1;32m    355\u001b[0m     )\n\u001b[1;32m    356\u001b[0m \u001b[38;5;28;01melif\u001b[39;00m \u001b[38;5;129;01mnot\u001b[39;00m rid:\n\u001b[1;32m    357\u001b[0m     \u001b[38;5;66;03m# Can this happen?\u001b[39;00m\n\u001b[1;32m    358\u001b[0m     \u001b[38;5;28;01mraise\u001b[39;00m \u001b[38;5;167;01mValueError\u001b[39;00m(\n\u001b[1;32m    359\u001b[0m         \u001b[38;5;124mf\u001b[39m\u001b[38;5;124m\"\u001b[39m\u001b[38;5;124mNo RID found in the \u001b[39m\u001b[38;5;124m'\u001b[39m\u001b[38;5;124mplease wait\u001b[39m\u001b[38;5;124m'\u001b[39m\u001b[38;5;124m page. (although RTOE = \u001b[39m\u001b[38;5;132;01m{\u001b[39;00mrtoe\u001b[38;5;132;01m!r}\u001b[39;00m\u001b[38;5;124m)\u001b[39m\u001b[38;5;124m\"\u001b[39m\n\u001b[1;32m    360\u001b[0m     )\n",
      "\u001b[0;31mValueError\u001b[0m: No RID and no RTOE found in the 'please wait' page, there was probably an error in your request but we could not extract a helpful error message."
     ]
    }
   ],
   "source": [
    "sequence_data = open(filepath + filename + \".fasta\", \"r\").read()\n",
    "result_handle = NCBIWWW.qblast(\"blastn\", \"nt\", sequence_data, format_type='HTML') \n",
    "result_handle"
   ]
  },
  {
   "cell_type": "code",
   "execution_count": 4,
   "metadata": {},
   "outputs": [
    {
     "data": {
      "text/plain": [
       "290709"
      ]
     },
     "execution_count": 4,
     "metadata": {},
     "output_type": "execute_result"
    }
   ],
   "source": [
    "results = open(resultspath + filename + \"_res.html\", \"w\")\n",
    "blast_results = result_handle.read()\n",
    "results.write(blast_results)"
   ]
  },
  {
   "cell_type": "code",
   "execution_count": 27,
   "metadata": {},
   "outputs": [
    {
     "name": "stdout",
     "output_type": "stream",
     "text": [
      "{'305': 3, '1937813': 1, '235299': 1, '562': 8, '1501662': 1, '2026743': 1, '4615': 1, '1747': 27, '267747': 1, '1122995': 1, '1734925': 2, '1869227': 2, '1280': 1}\n"
     ]
    }
   ],
   "source": [
    "# parse BLAST result (html version)\n",
    "\n",
    "results_html = open(resultspath + filename + \"_res.html\", \"r\")\n",
    "\n",
    "file = open(resultspath + filename + \"_res_parsed.csv\", \"w\", newline='')\n",
    "file.truncate(0)\n",
    "writer = csv.writer(file)\n",
    "lines = results_html.readlines()\n",
    "\n",
    "writer.writerow([\"taxid\", \"count\"])\n",
    "\n",
    "for line in lines:\n",
    "    split = line.split()\n",
    "    # print(split)\n",
    "    if \"taxid\" in split:\n",
    "        for i in range(len(split)):\n",
    "            if split[i] == \"taxid\":\n",
    "                if split[i + 1] != \"or\":\n",
    "                    res = re.findall('\\d+', split[i+1])\n",
    "                    writer.writerow([res[0], 1])\n",
    "\n",
    "results_html.close()\n",
    "file.close()\n",
    "file = open(resultspath + filename + \"_res_parsed.csv\", \"r\", newline='')\n",
    "reader = csv.reader(file)\n",
    "header = []\n",
    "header = next(reader)\n",
    "rows = []\n",
    "for row in reader:\n",
    "    rows.append(row)\n",
    "\n",
    "output_dict = {}\n",
    "for row in rows:\n",
    "    if row[0] in output_dict:\n",
    "        output_dict[row[0]] += 1\n",
    "    else:\n",
    "        output_dict[row[0]] = 1\n",
    "\n",
    "file.close()\n",
    "print(output_dict)\n",
    "\n",
    "file = open(resultspath + filename + \"_info.csv\", \"w\", newline='')\n",
    "writer = csv.writer(file)\n",
    "for key in output_dict:\n",
    "    writer.writerow([filename, key, output_dict[key]])\n",
    "file.close()\n"
   ]
  },
  {
   "cell_type": "code",
   "execution_count": null,
   "metadata": {},
   "outputs": [],
   "source": []
  }
 ],
 "metadata": {
  "kernelspec": {
   "display_name": "Python 3",
   "language": "python",
   "name": "python3"
  },
  "language_info": {
   "codemirror_mode": {
    "name": "ipython",
    "version": 3
   },
   "file_extension": ".py",
   "mimetype": "text/x-python",
   "name": "python",
   "nbconvert_exporter": "python",
   "pygments_lexer": "ipython3",
   "version": "3.9.6"
  }
 },
 "nbformat": 4,
 "nbformat_minor": 2
}
