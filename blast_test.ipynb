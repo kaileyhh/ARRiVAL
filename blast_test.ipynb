{
 "cells": [
  {
   "cell_type": "code",
   "execution_count": 5,
   "metadata": {},
   "outputs": [],
   "source": [
    "# import packages for BLAST API\n",
    "from Bio.Blast import NCBIWWW\n",
    "from Bio import SeqIO"
   ]
  },
  {
   "cell_type": "code",
   "execution_count": 18,
   "metadata": {},
   "outputs": [],
   "source": [
    "# fastq to fasta\n",
    "file = open(\"data/ERR4775526.fastq\", \"r\")\n",
    "file_fasta = open(\"data/ERR4775526.fasta\", \"w\")\n",
    "lines = file.readlines()\n",
    "\n",
    "counter = 1\n",
    "\n",
    "for line in lines:\n",
    "    if counter == 1:\n",
    "        file_fasta.write(\">\")\n",
    "        file_fasta.write(line)\n",
    "    if counter == 2:\n",
    "        file_fasta.write(line)\n",
    "    counter = (counter + 1) % 4\n",
    "\n",
    "file.close()"
   ]
  },
  {
   "cell_type": "code",
   "execution_count": 7,
   "metadata": {},
   "outputs": [
    {
     "ename": "SyntaxError",
     "evalue": "invalid syntax (3447814387.py, line 1)",
     "output_type": "error",
     "traceback": [
      "\u001b[0;36m  Cell \u001b[0;32mIn[7], line 1\u001b[0;36m\u001b[0m\n\u001b[0;31m    seqkit fq2fa reads_1.fq.gz -o reads_1.fa.gz\u001b[0m\n\u001b[0m           ^\u001b[0m\n\u001b[0;31mSyntaxError\u001b[0m\u001b[0;31m:\u001b[0m invalid syntax\n"
     ]
    }
   ],
   "source": [
    "seqkit fq2fa reads_1.fq.gz -o reads_1.fa.gz"
   ]
  },
  {
   "cell_type": "code",
   "execution_count": null,
   "metadata": {},
   "outputs": [],
   "source": []
  }
 ],
 "metadata": {
  "kernelspec": {
   "display_name": "Python 3",
   "language": "python",
   "name": "python3"
  },
  "language_info": {
   "codemirror_mode": {
    "name": "ipython",
    "version": 3
   },
   "file_extension": ".py",
   "mimetype": "text/x-python",
   "name": "python",
   "nbconvert_exporter": "python",
   "pygments_lexer": "ipython3",
   "version": "3.9.6"
  }
 },
 "nbformat": 4,
 "nbformat_minor": 2
}
