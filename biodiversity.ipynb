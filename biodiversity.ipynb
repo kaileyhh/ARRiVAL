{
 "cells": [
  {
   "cell_type": "code",
   "execution_count": 1,
   "metadata": {},
   "outputs": [],
   "source": [
    "import pickle\n",
    "import glob\n",
    "import networkx as nx \n",
    "import matplotlib.pyplot as plt\n",
    "\n",
    "to_classify = [\"sample\", \"domain\", \"phylum\", \"class\", \"order\", \"family\", \"genus\"]\n",
    "\n",
    "disease1 = \"crc\"\n",
    "disease2 = \"ibs\"\n",
    "classifier = 'family'\n",
    "\n",
    "files1 = glob.glob('results/'+disease1+'/'+disease1+'_dicts/*')\n",
    "files2 = glob.glob('results/'+disease2+'/'+disease2+'_dicts/*')\n",
    "\n",
    "# calculating beta diversity"
   ]
  },
  {
   "cell_type": "code",
   "execution_count": 3,
   "metadata": {},
   "outputs": [],
   "source": [
    "# calculate thresholds\n",
    "\n",
    "# find average value of each\n",
    "total_organisms1 = {}\n",
    "total_organisms2 = {}\n",
    "\n",
    "for file in files1:\n",
    "    with open(file, 'rb') as f:\n",
    "        taxa_dict = pickle.load(f)\n",
    "    \n",
    "    # count total taxa\n",
    "    for i in taxa_dict[classifier]:\n",
    "        if i not in total_organisms1:\n",
    "            total_organisms1[i] = taxa_dict[classifier][i]\n",
    "        else:\n",
    "            total_organisms1[i] += taxa_dict[classifier][i]\n",
    "\n",
    "\n",
    "for file in files2:\n",
    "    with open(file, 'rb') as f:\n",
    "        taxa_dict = pickle.load(f)\n",
    "    \n",
    "    # count total taxa\n",
    "    for i in taxa_dict[classifier]:\n",
    "        if i not in total_organisms2:\n",
    "            total_organisms2[i] = taxa_dict[classifier][i]\n",
    "        else:\n",
    "            total_organisms2[i] += taxa_dict[classifier][i]"
   ]
  },
  {
   "cell_type": "code",
   "execution_count": 2,
   "metadata": {},
   "outputs": [
    {
     "ename": "KeyboardInterrupt",
     "evalue": "",
     "output_type": "error",
     "traceback": [
      "\u001b[0;31m---------------------------------------------------------------------------\u001b[0m",
      "\u001b[0;31mKeyboardInterrupt\u001b[0m                         Traceback (most recent call last)",
      "Cell \u001b[0;32mIn[2], line 14\u001b[0m\n\u001b[1;32m     12\u001b[0m \u001b[38;5;28;01mfor\u001b[39;00m file2 \u001b[38;5;129;01min\u001b[39;00m files2:\n\u001b[1;32m     13\u001b[0m     \u001b[38;5;28;01mwith\u001b[39;00m \u001b[38;5;28mopen\u001b[39m(file2, \u001b[38;5;124m'\u001b[39m\u001b[38;5;124mrb\u001b[39m\u001b[38;5;124m'\u001b[39m) \u001b[38;5;28;01mas\u001b[39;00m f2:\n\u001b[0;32m---> 14\u001b[0m         taxa_dict2 \u001b[38;5;241m=\u001b[39m \u001b[43mpickle\u001b[49m\u001b[38;5;241;43m.\u001b[39;49m\u001b[43mload\u001b[49m\u001b[43m(\u001b[49m\u001b[43mf2\u001b[49m\u001b[43m)\u001b[49m\n\u001b[1;32m     16\u001b[0m     \u001b[38;5;28;01mif\u001b[39;00m i \u001b[38;5;129;01min\u001b[39;00m taxa_dict2[classifier]:\n\u001b[1;32m     17\u001b[0m         \u001b[38;5;28msum\u001b[39m \u001b[38;5;241m+\u001b[39m\u001b[38;5;241m=\u001b[39m \u001b[38;5;28mmin\u001b[39m(taxa_dict1[classifier][i], taxa_dict2[classifier][i])\n",
      "\u001b[0;31mKeyboardInterrupt\u001b[0m: "
     ]
    }
   ],
   "source": [
    "# bray curtis, jaccard\n",
    "\n",
    "sum = 0\n",
    "total = 0\n",
    "sum_max = 0\n",
    "\n",
    "for i in total_organisms1:\n",
    "    if i in total_organisms2:\n",
    "        sum += min(total_organisms1[i], total_organisms2[i])\n",
    "        total += total_organisms1[i]\n",
    "        total += total_organisms2[i]\n",
    "\n",
    "        sum_max += max(total_organisms1[i], total_organisms2[i])\n",
    "\n",
    "print(\"Bray curtis distance between \" + disease1 + \" and \" + disease2 + \":\", 1 - (sum / total))\n",
    "print(\"Jaccard curtis distance between \" + disease1 + \" and \" + disease2 + \":\", 1 - (sum / sum_max))"
   ]
  },
  {
   "cell_type": "code",
   "execution_count": null,
   "metadata": {},
   "outputs": [],
   "source": []
  }
 ],
 "metadata": {
  "kernelspec": {
   "display_name": "Python 3",
   "language": "python",
   "name": "python3"
  },
  "language_info": {
   "codemirror_mode": {
    "name": "ipython",
    "version": 3
   },
   "file_extension": ".py",
   "mimetype": "text/x-python",
   "name": "python",
   "nbconvert_exporter": "python",
   "pygments_lexer": "ipython3",
   "version": "3.9.6"
  }
 },
 "nbformat": 4,
 "nbformat_minor": 2
}
