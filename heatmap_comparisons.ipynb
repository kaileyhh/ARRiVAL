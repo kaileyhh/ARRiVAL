{
 "cells": [
  {
   "cell_type": "code",
   "execution_count": 1,
   "metadata": {},
   "outputs": [],
   "source": [
    "import pickle\n",
    "import glob\n",
    "import pandas as pd\n",
    "import seaborn as sns\n",
    "import matplotlib.pyplot as plt\n",
    "\n",
    "disease1 = \"ibd\"\n",
    "disease2 = \"ibs\"\n",
    "\n",
    "files1 = glob.glob('results/'+disease1+'/'+disease1+'_dicts/*')\n",
    "files2 = glob.glob('results/'+disease2+'/'+disease2+'_dicts/*')\n",
    "to_classify = [\"sample\", \"domain\", \"phylum\", \"class\", \"order\", \"family\", \"genus\"]\n",
    "classifier = \"phylum\""
   ]
  },
  {
   "cell_type": "code",
   "execution_count": 8,
   "metadata": {},
   "outputs": [],
   "source": [
    "# calculate thresholds\n",
    "\n",
    "# find average value of each\n",
    "avg_d1 = {}\n",
    "avg_d2 = {}\n",
    "total_organisms1 = {}\n",
    "total_organisms2 = {}\n",
    "num_files1 = len(files1)\n",
    "num_files2 = len(files2)\n",
    "\n",
    "for file in files1:\n",
    "    with open(file, 'rb') as f:\n",
    "        taxa_dict = pickle.load(f)\n",
    "    \n",
    "    # count total organisms per patient\n",
    "    organism_count = 0\n",
    "    for i in taxa_dict[classifier]:\n",
    "        organism_count += taxa_dict[classifier][i]\n",
    "    total_organisms1[file] = organism_count\n",
    "\n",
    "    # add normalized data to the total, and divide by number of patients to average\n",
    "    for i in taxa_dict[classifier]:\n",
    "        if i not in avg_d1:\n",
    "            avg_d1[i] = taxa_dict[classifier][i] / (num_files1 * organism_count)\n",
    "        else:\n",
    "            avg_d1[i] += taxa_dict[classifier][i] / (num_files1 * organism_count)\n",
    "\n",
    "\n",
    "for file in files2:\n",
    "    with open(file, 'rb') as f:\n",
    "        taxa_dict = pickle.load(f)\n",
    "    \n",
    "    # count total organisms per patient\n",
    "    organism_count = 0\n",
    "    for i in taxa_dict[classifier]:\n",
    "        organism_count += taxa_dict[classifier][i]\n",
    "    total_organisms2[file] = organism_count\n",
    "\n",
    "    # add normalized data to the total, and divide by number of patients to average\n",
    "    for i in taxa_dict[classifier]:\n",
    "        if i not in avg_d2:\n",
    "            avg_d2[i] = taxa_dict[classifier][i] / (num_files2 * organism_count)\n",
    "        else:\n",
    "            avg_d2[i] += taxa_dict[classifier][i] / (num_files2 * organism_count)"
   ]
  },
  {
   "cell_type": "code",
   "execution_count": 9,
   "metadata": {},
   "outputs": [],
   "source": [
    "# count number of patients both are above threshold in\n",
    "\n",
    "total_files_per_sample = {}\n",
    "\n",
    "for file in files1:\n",
    "    with open(file, 'rb') as f:\n",
    "        taxa_dict = pickle.load(f)\n",
    "        \n",
    "    for i in taxa_dict[classifier]:\n",
    "        if i not in total_files_per_sample:\n",
    "                total_files_per_sample[i] = {}\n",
    "\n",
    "        if taxa_dict[classifier][i] / total_organisms1[file] < avg_d1[i]:\n",
    "            continue\n",
    "\n",
    "        else:\n",
    "            for file2 in files2:\n",
    "                with open(file2, 'rb') as f2:\n",
    "                    taxa_dict2 = pickle.load(f2)\n",
    "                for j in taxa_dict2[classifier]:\n",
    "                    if taxa_dict2[classifier][j] / total_organisms2[file2] >= avg_d2[j]:\n",
    "                        if j not in total_files_per_sample[i]:\n",
    "                            total_files_per_sample[i][j] = 1\n",
    "                        else:\n",
    "                            total_files_per_sample[i][j] += 1\n"
   ]
  },
  {
   "cell_type": "code",
   "execution_count": null,
   "metadata": {},
   "outputs": [],
   "source": [
    "df = pd.DataFrame.from_dict(total_files_per_sample, orient='index')\n",
    "\n",
    "plt.figure(figsize=(15, 15), dpi=600)\n",
    "coloring = sns.color_palette(\"ch:s=-.2,r=.6\", as_cmap=True)\n",
    "coloring.set_bad(\"#E3D8C1\")\n",
    "heatmap = sns.heatmap(df, annot = False, cmap = coloring, cbar_kws={'label': 'patients that both are upregulated in'})\n",
    "heatmap.set_title(\"Correlation between taxa in \" + disease1.upper() + \" and \" + disease2.upper() + \" (\"+classifier+\")\")"
   ]
  }
 ],
 "metadata": {
  "kernelspec": {
   "display_name": "Python 3",
   "language": "python",
   "name": "python3"
  },
  "language_info": {
   "codemirror_mode": {
    "name": "ipython",
    "version": 3
   },
   "file_extension": ".py",
   "mimetype": "text/x-python",
   "name": "python",
   "nbconvert_exporter": "python",
   "pygments_lexer": "ipython3",
   "version": "3.9.6"
  }
 },
 "nbformat": 4,
 "nbformat_minor": 2
}
