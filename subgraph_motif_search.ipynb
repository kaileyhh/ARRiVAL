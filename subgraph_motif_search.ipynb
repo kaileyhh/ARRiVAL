{
 "cells": [
  {
   "cell_type": "code",
   "execution_count": 1,
   "metadata": {},
   "outputs": [],
   "source": [
    "# import statements\n",
    "\n",
    "import networkx as nx\n",
    "import matplotlib.pyplot as plt\n",
    "import pickle\n",
    "from math import comb"
   ]
  },
  {
   "cell_type": "code",
   "execution_count": 2,
   "metadata": {},
   "outputs": [],
   "source": [
    "ibs_graph = pickle.load(open(\"ibs_graph.pkl\", \"rb\"))\n",
    "\n",
    "clique_size = 4"
   ]
  },
  {
   "cell_type": "code",
   "execution_count": 4,
   "metadata": {},
   "outputs": [
    {
     "name": "stdout",
     "output_type": "stream",
     "text": [
      "Number of cliques of size 4 : 2518 percentage: 5.358662922856749e-07\n",
      "Expected number of cliques: 120292694.144 percentage: 0.0625\n"
     ]
    }
   ],
   "source": [
    "cliques = [s for s in nx.enumerate_all_cliques(ibs_graph) if len(s) == clique_size]\n",
    "\n",
    "n = len(ibs_graph.nodes)\n",
    "expected_num_cliques = comb(n, clique_size) * (2**(clique_size)) / (5**(clique_size))\n",
    "\n",
    "print(\"Number of cliques of size\", clique_size, \":\", len(cliques), \"percentage:\", len(cliques) / comb(n, clique_size))\n",
    "print(\"Expected number of cliques:\", expected_num_cliques, \"percentage:\", ((2/5)**(clique_size)))"
   ]
  },
  {
   "cell_type": "code",
   "execution_count": null,
   "metadata": {},
   "outputs": [],
   "source": []
  }
 ],
 "metadata": {
  "kernelspec": {
   "display_name": "Python 3",
   "language": "python",
   "name": "python3"
  },
  "language_info": {
   "codemirror_mode": {
    "name": "ipython",
    "version": 3
   },
   "file_extension": ".py",
   "mimetype": "text/x-python",
   "name": "python",
   "nbconvert_exporter": "python",
   "pygments_lexer": "ipython3",
   "version": "3.9.6"
  }
 },
 "nbformat": 4,
 "nbformat_minor": 2
}
