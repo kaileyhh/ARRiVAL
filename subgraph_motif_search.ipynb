{
 "cells": [
  {
   "cell_type": "code",
   "execution_count": 3,
   "metadata": {},
   "outputs": [],
   "source": [
    "# import statements\n",
    "\n",
    "import networkx as nx\n",
    "import matplotlib.pyplot as plt\n",
    "import pickle\n",
    "from math import comb\n",
    "from tqdm import tqdm\n",
    "import numpy as np"
   ]
  },
  {
   "cell_type": "code",
   "execution_count": 33,
   "metadata": {},
   "outputs": [],
   "source": [
    "disease = \"crc\"\n",
    "\n",
    "graph = pickle.load(open(disease+\"_graph.pkl\", \"rb\"))\n",
    "\n",
    "clique_size = 3\n",
    "total_iters = 10000"
   ]
  },
  {
   "cell_type": "code",
   "execution_count": 34,
   "metadata": {},
   "outputs": [],
   "source": [
    "def count_3_cliques(G):\n",
    "    A = np.array(nx.adjacency_matrix(G).todense())\n",
    "\n",
    "    C = A @ A @ A\n",
    "\n",
    "    return np.trace(C) // 6"
   ]
  },
  {
   "cell_type": "code",
   "execution_count": 35,
   "metadata": {},
   "outputs": [
    {
     "name": "stdout",
     "output_type": "stream",
     "text": [
      "313\n"
     ]
    },
    {
     "ename": "KeyboardInterrupt",
     "evalue": "",
     "output_type": "error",
     "traceback": [
      "\u001b[0;31m---------------------------------------------------------------------------\u001b[0m",
      "\u001b[0;31mKeyboardInterrupt\u001b[0m                         Traceback (most recent call last)",
      "Cell \u001b[0;32mIn[35], line 8\u001b[0m\n\u001b[1;32m      5\u001b[0m \u001b[38;5;28mprint\u001b[39m(n)\n\u001b[1;32m      7\u001b[0m \u001b[38;5;66;03m# cliques = count_3_cliques(graph)# [s for s in nx.enumerate_all_cliques(graph) if len(s) == clique_size]\u001b[39;00m\n\u001b[0;32m----> 8\u001b[0m cliques \u001b[38;5;241m=\u001b[39m \u001b[38;5;28mlen\u001b[39m([s \u001b[38;5;28;01mfor\u001b[39;00m s \u001b[38;5;129;01min\u001b[39;00m nx\u001b[38;5;241m.\u001b[39menumerate_all_cliques(graph) \u001b[38;5;28;01mif\u001b[39;00m \u001b[38;5;28mlen\u001b[39m(s) \u001b[38;5;241m==\u001b[39m clique_size])\n\u001b[1;32m     10\u001b[0m \u001b[38;5;66;03m# n = len(graph.nodes)\u001b[39;00m\n\u001b[1;32m     11\u001b[0m \u001b[38;5;66;03m# m = len(graph.edges)\u001b[39;00m\n\u001b[1;32m     13\u001b[0m \u001b[38;5;28msum\u001b[39m \u001b[38;5;241m=\u001b[39m \u001b[38;5;241m0\u001b[39m\n",
      "Cell \u001b[0;32mIn[35], line 8\u001b[0m, in \u001b[0;36m<listcomp>\u001b[0;34m(.0)\u001b[0m\n\u001b[1;32m      5\u001b[0m \u001b[38;5;28mprint\u001b[39m(n)\n\u001b[1;32m      7\u001b[0m \u001b[38;5;66;03m# cliques = count_3_cliques(graph)# [s for s in nx.enumerate_all_cliques(graph) if len(s) == clique_size]\u001b[39;00m\n\u001b[0;32m----> 8\u001b[0m cliques \u001b[38;5;241m=\u001b[39m \u001b[38;5;28mlen\u001b[39m([s \u001b[38;5;28;01mfor\u001b[39;00m s \u001b[38;5;129;01min\u001b[39;00m nx\u001b[38;5;241m.\u001b[39menumerate_all_cliques(graph) \u001b[38;5;28;01mif\u001b[39;00m \u001b[38;5;28mlen\u001b[39m(s) \u001b[38;5;241m==\u001b[39m clique_size])\n\u001b[1;32m     10\u001b[0m \u001b[38;5;66;03m# n = len(graph.nodes)\u001b[39;00m\n\u001b[1;32m     11\u001b[0m \u001b[38;5;66;03m# m = len(graph.edges)\u001b[39;00m\n\u001b[1;32m     13\u001b[0m \u001b[38;5;28msum\u001b[39m \u001b[38;5;241m=\u001b[39m \u001b[38;5;241m0\u001b[39m\n",
      "File \u001b[0;32m~/Library/Python/3.9/lib/python/site-packages/networkx/algorithms/clique.py:95\u001b[0m, in \u001b[0;36menumerate_all_cliques\u001b[0;34m(G)\u001b[0m\n\u001b[1;32m     89\u001b[0m \u001b[38;5;28;01myield\u001b[39;00m base\n\u001b[1;32m     90\u001b[0m \u001b[38;5;28;01mfor\u001b[39;00m i, u \u001b[38;5;129;01min\u001b[39;00m \u001b[38;5;28menumerate\u001b[39m(cnbrs):\n\u001b[1;32m     91\u001b[0m     \u001b[38;5;66;03m# Use generators to reduce memory consumption.\u001b[39;00m\n\u001b[1;32m     92\u001b[0m     queue\u001b[38;5;241m.\u001b[39mappend(\n\u001b[1;32m     93\u001b[0m         (\n\u001b[1;32m     94\u001b[0m             chain(base, [u]),\n\u001b[0;32m---> 95\u001b[0m             \u001b[38;5;28mfilter\u001b[39m(nbrs[u]\u001b[38;5;241m.\u001b[39m\u001b[38;5;21m__contains__\u001b[39m, \u001b[43mislice\u001b[49m\u001b[43m(\u001b[49m\u001b[43mcnbrs\u001b[49m\u001b[43m,\u001b[49m\u001b[43m \u001b[49m\u001b[43mi\u001b[49m\u001b[43m \u001b[49m\u001b[38;5;241;43m+\u001b[39;49m\u001b[43m \u001b[49m\u001b[38;5;241;43m1\u001b[39;49m\u001b[43m,\u001b[49m\u001b[43m \u001b[49m\u001b[38;5;28;43;01mNone\u001b[39;49;00m\u001b[43m)\u001b[49m),\n\u001b[1;32m     96\u001b[0m         )\n\u001b[1;32m     97\u001b[0m     )\n",
      "\u001b[0;31mKeyboardInterrupt\u001b[0m: "
     ]
    }
   ],
   "source": [
    "graph.remove_nodes_from(list(nx.isolates(graph)))\n",
    "\n",
    "n = len(graph.nodes)\n",
    "m = len(graph.edges)\n",
    "print(n)\n",
    "\n",
    "# cliques = count_3_cliques(graph)# [s for s in nx.enumerate_all_cliques(graph) if len(s) == clique_size]\n",
    "cliques = len([s for s in nx.enumerate_all_cliques(graph) if len(s) == clique_size])\n",
    "\n",
    "# n = len(graph.nodes)\n",
    "# m = len(graph.edges)\n",
    "\n",
    "sum = 0\n",
    "\n",
    "for i in tqdm(range(total_iters)):\n",
    "    random_graph = nx.fast_gnp_random_graph(n, m / (n**2))\n",
    "    cliques_random = [s for s in nx.enumerate_all_cliques(random_graph) if len(s) == clique_size]\n",
    "    # sum += count_3_cliques(random_graph)\n",
    "    sum += len(cliques_random)\n",
    "\n",
    "average_num_cliques = sum / total_iters\n",
    "\n"
   ]
  },
  {
   "cell_type": "code",
   "execution_count": 32,
   "metadata": {},
   "outputs": [
    {
     "name": "stdout",
     "output_type": "stream",
     "text": [
      "IBS number of cliques of size 3 : 2988 percentage: 0.6822089139224958\n",
      "IBS expected number of cliques: 23.7396 percentage: 0.005420136122140053\n"
     ]
    }
   ],
   "source": [
    "\n",
    "# expected_num_cliques = comb(n, clique_size) * (2**(clique_size)) / (5**(clique_size))\n",
    "\n",
    "print(disease.upper(), \"number of cliques of size\", clique_size, \":\", cliques, \"percentage:\", cliques / comb(n, clique_size) * 100)\n",
    "print(disease.upper(), \"expected number of cliques:\", average_num_cliques, \"percentage:\", average_num_cliques/ comb(n, clique_size) * 100)"
   ]
  },
  {
   "cell_type": "code",
   "execution_count": null,
   "metadata": {},
   "outputs": [],
   "source": []
  }
 ],
 "metadata": {
  "kernelspec": {
   "display_name": "Python 3",
   "language": "python",
   "name": "python3"
  },
  "language_info": {
   "codemirror_mode": {
    "name": "ipython",
    "version": 3
   },
   "file_extension": ".py",
   "mimetype": "text/x-python",
   "name": "python",
   "nbconvert_exporter": "python",
   "pygments_lexer": "ipython3",
   "version": "3.9.6"
  }
 },
 "nbformat": 4,
 "nbformat_minor": 2
}
