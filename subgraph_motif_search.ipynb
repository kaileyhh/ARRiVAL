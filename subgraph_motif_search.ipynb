{
 "cells": [
  {
   "cell_type": "code",
   "execution_count": 2,
   "metadata": {},
   "outputs": [],
   "source": [
    "# import statements\n",
    "\n",
    "import networkx as nx\n",
    "import matplotlib.pyplot as plt\n",
    "import pickle\n",
    "from math import comb"
   ]
  },
  {
   "cell_type": "code",
   "execution_count": 14,
   "metadata": {},
   "outputs": [],
   "source": [
    "disease = \"ibd\"\n",
    "\n",
    "graph = pickle.load(open(disease+\"_graph.pkl\", \"rb\"))\n",
    "\n",
    "clique_size = 3\n",
    "total_iters = 10000"
   ]
  },
  {
   "cell_type": "code",
   "execution_count": 15,
   "metadata": {},
   "outputs": [
    {
     "name": "stdout",
     "output_type": "stream",
     "text": [
      "104 1017 0.09402736686390532\n"
     ]
    }
   ],
   "source": [
    "graph.remove_nodes_from(list(nx.isolates(graph)))\n",
    "\n",
    "cliques = [s for s in nx.enumerate_all_cliques(graph) if len(s) == clique_size]\n",
    "\n",
    "n = len(graph.nodes)\n",
    "m = len(graph.edges)\n",
    "\n",
    "sum = 0\n",
    "\n",
    "for i in range(total_iters):\n",
    "    random_graph = nx.fast_gnp_random_graph(n, m / (n**2))\n",
    "    cliques_random = [s for s in nx.enumerate_all_cliques(random_graph) if len(s) == clique_size]\n",
    "    sum += len(cliques_random)\n",
    "\n",
    "average_num_cliques = sum / total_iters\n",
    "\n",
    "\n",
    "# expected_num_cliques = comb(n, clique_size) * (2**(clique_size)) / (5**(clique_size))\n",
    "\n",
    "print(disease.upper(), \"number of cliques of size\", clique_size, \":\", len(cliques), \"percentage:\", len(cliques) / comb(n, clique_size) * 100)\n",
    "print(disease.upper(), \"expected number of cliques:\", average_num_cliques, \"percentage:\", average_num_cliques/ comb(n, clique_size) * 100)"
   ]
  },
  {
   "cell_type": "code",
   "execution_count": null,
   "metadata": {},
   "outputs": [],
   "source": []
  }
 ],
 "metadata": {
  "kernelspec": {
   "display_name": "Python 3",
   "language": "python",
   "name": "python3"
  },
  "language_info": {
   "codemirror_mode": {
    "name": "ipython",
    "version": 3
   },
   "file_extension": ".py",
   "mimetype": "text/x-python",
   "name": "python",
   "nbconvert_exporter": "python",
   "pygments_lexer": "ipython3",
   "version": "3.9.6"
  }
 },
 "nbformat": 4,
 "nbformat_minor": 2
}
