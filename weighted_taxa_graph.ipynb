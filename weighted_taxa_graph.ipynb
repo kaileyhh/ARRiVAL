{
 "cells": [
  {
   "cell_type": "code",
   "execution_count": 109,
   "metadata": {},
   "outputs": [],
   "source": [
    "import pickle\n",
    "import glob\n",
    "import networkx as nx \n",
    "import matplotlib.pyplot as plt\n",
    "import math\n",
    "\n",
    "to_classify = [\"sample\", \"domain\", \"phylum\", \"class\", \"order\", \"family\", \"genus\"]\n",
    "\n",
    "disease = \"crc\"\n",
    "classifier = 'family'\n",
    "filepath = \"results/file_dicts/\"+disease+\"_\"+classifier+\".pkl\""
   ]
  },
  {
   "cell_type": "code",
   "execution_count": 110,
   "metadata": {},
   "outputs": [],
   "source": [
    "with open(filepath, 'rb') as f:\n",
    "    total_files_per_sample = pickle.load(f)\n",
    "\n",
    "num_files = len(glob.glob('results/'+disease+'/'+disease+'_dicts/*'))"
   ]
  },
  {
   "cell_type": "code",
   "execution_count": 111,
   "metadata": {},
   "outputs": [
    {
     "name": "stdout",
     "output_type": "stream",
     "text": [
      "7.237075190756764 42\n"
     ]
    }
   ],
   "source": [
    "# graphing\n",
    "\n",
    "sum = 0\n",
    "total = 0\n",
    "\n",
    "for key in total_files_per_sample:\n",
    "    for key2 in total_files_per_sample[key]:\n",
    "        sum += total_files_per_sample[key][key2]\n",
    "        total +=1\n",
    "\n",
    "if total == 0:\n",
    "    print(\"Error: no correlation\")\n",
    "avg_tfs = sum / total\n",
    "print(avg_tfs, num_files)\n",
    "\n",
    "min = 1\n",
    "\n",
    "graph = nx.Graph()\n",
    "used = []\n",
    "for node in total_files_per_sample:\n",
    "    if node not in used:\n",
    "        graph.add_node(node, node_size=0)\n",
    "    used.append(node)    \n",
    "\n",
    "for node in total_files_per_sample:\n",
    "    for other in total_files_per_sample[node]:\n",
    "        if node != other and total_files_per_sample[node][other] > avg_tfs * 2:    \n",
    "            # print(total_files_per_sample[node][other] / num_files)         \n",
    "            graph.add_edge(node, other, weight = (total_files_per_sample[node][other] / num_files), color = 'black')\n",
    "            if ((total_files_per_sample[node][other] / num_files) < min):\n",
    "                min = (total_files_per_sample[node][other] / num_files)\n",
    "\n",
    "min += 0.001"
   ]
  },
  {
   "cell_type": "code",
   "execution_count": 114,
   "metadata": {},
   "outputs": [],
   "source": [
    "plt.figure(figsize=(15,15), dpi = 600)\n",
    "\n",
    "# spring = nx.spring_layout(graph, seed=7)\n",
    "circ = nx.circular_layout(graph)\n",
    "\n",
    "nx.draw_networkx_nodes(graph, circ, node_size = 1)\n",
    "for (u, v, d) in graph.edges(data = True):\n",
    "    nx.draw_networkx_edges(graph, circ, edgelist=[(u, v)], width = ((d[\"weight\"] - min)/ 0.1)**2)\n",
    "\n",
    "# plt.title(\"Graph of connections between \" + classifier + \" for disease \" + disease.upper(), fontsize = 25)\n",
    "\n",
    "for pos in ['right', 'top', 'bottom', 'left']: \n",
    "    plt.gca().spines[pos].set_visible(False) \n",
    "\n",
    "plt.show()"
   ]
  },
  {
   "cell_type": "markdown",
   "metadata": {},
   "source": [
    "### Weighted graph analysis\n",
    "calculate the characteristic path length of a network: the average shortest graph between any two nodes"
   ]
  },
  {
   "cell_type": "code",
   "execution_count": 106,
   "metadata": {},
   "outputs": [],
   "source": [
    "def calc_weight(u, v, d):\n",
    "    # print( ((d[\"weight\"])/ 0.1)**2)\n",
    "    return math.exp(d[\"weight\"] * -1)\n",
    "\n",
    "def calc_weight_inv(d):\n",
    "    return d[\"weight\"] / num_files"
   ]
  },
  {
   "cell_type": "code",
   "execution_count": 112,
   "metadata": {},
   "outputs": [
    {
     "name": "stdout",
     "output_type": "stream",
     "text": [
      "average unweighted path length: 1.749078397640698\n",
      "average weighted path length: 1.1522708570013562\n",
      "ratio: 0.6587874268847153\n"
     ]
    }
   ],
   "source": [
    "# remove vertices with no neighbors\n",
    "graph.remove_nodes_from(list(nx.isolates(graph)))\n",
    "avg_path_len_uw = nx.average_shortest_path_length(graph) # / len(graph.nodes)\n",
    "avg_path_len_w = nx.average_shortest_path_length(graph, weight=calc_weight)\n",
    "\n",
    "print(\"average unweighted path length:\", avg_path_len_uw)\n",
    "print(\"average weighted path length:\", avg_path_len_w)\n",
    "print(\"ratio:\", avg_path_len_w / avg_path_len_uw)"
   ]
  },
  {
   "cell_type": "markdown",
   "metadata": {},
   "source": [
    "strength of weighted degree"
   ]
  },
  {
   "cell_type": "code",
   "execution_count": 113,
   "metadata": {},
   "outputs": [
    {
     "name": "stdout",
     "output_type": "stream",
     "text": [
      "average: 0.8978613809741145\n"
     ]
    }
   ],
   "source": [
    "total_sum = 0\n",
    "for node in graph.nodes:\n",
    "    sum = 0\n",
    "    edges = graph.edges(node, data = True)\n",
    "    for edge in edges:\n",
    "        sum += calc_weight_inv(edge[2])\n",
    "    total_sum += sum\n",
    "\n",
    "print(\"average:\", total_sum / len(graph.nodes))"
   ]
  },
  {
   "cell_type": "code",
   "execution_count": null,
   "metadata": {},
   "outputs": [],
   "source": []
  }
 ],
 "metadata": {
  "kernelspec": {
   "display_name": "Python 3",
   "language": "python",
   "name": "python3"
  },
  "language_info": {
   "codemirror_mode": {
    "name": "ipython",
    "version": 3
   },
   "file_extension": ".py",
   "mimetype": "text/x-python",
   "name": "python",
   "nbconvert_exporter": "python",
   "pygments_lexer": "ipython3",
   "version": "3.9.6"
  }
 },
 "nbformat": 4,
 "nbformat_minor": 2
}
