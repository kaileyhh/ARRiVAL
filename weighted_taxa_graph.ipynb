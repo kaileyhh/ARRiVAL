{
 "cells": [
  {
   "cell_type": "code",
   "execution_count": 1,
   "metadata": {},
   "outputs": [],
   "source": [
    "import pickle\n",
    "import glob\n",
    "import networkx as nx \n",
    "import matplotlib.pyplot as plt\n",
    "\n",
    "to_classify = [\"sample\", \"domain\", \"phylum\", \"class\", \"order\", \"family\", \"genus\"]\n",
    "\n",
    "disease = \"ibs\"\n",
    "classifier = 'family'"
   ]
  },
  {
   "cell_type": "code",
   "execution_count": 4,
   "metadata": {},
   "outputs": [],
   "source": [
    "files = glob.glob('results/'+disease+'/'+disease+'_dicts/*')\n",
    "taxa_dicts = []\n",
    "\n",
    "for file in files:\n",
    "    with open(file, 'rb') as f:\n",
    "        taxa_dict = pickle.load(f)\n",
    "        taxa_dicts.append(taxa_dict)\n",
    "        \n",
    "# calculate thresholds\n",
    "\n",
    "# find average value of each\n",
    "avg_d = {}\n",
    "total_organisms = {}\n",
    "num_files = len(files)\n",
    "num_files_occurred = {}\n",
    "\n",
    "for file in files:\n",
    "    with open(file, 'rb') as f:\n",
    "        taxa_dict = pickle.load(f)\n",
    "    \n",
    "    # count total organisms per patient\n",
    "    organism_count = 0\n",
    "    for i in taxa_dict[classifier]:\n",
    "        organism_count += taxa_dict[classifier][i]\n",
    "        if i not in num_files_occurred:\n",
    "            num_files_occurred[i] = 1\n",
    "        else:\n",
    "            num_files_occurred[i] += 1\n",
    "    total_organisms[file] = organism_count\n",
    "\n",
    "    # add normalized data to the total, and divide by number of patients to average\n",
    "    for i in taxa_dict[classifier]:\n",
    "        if i not in avg_d:\n",
    "            avg_d[i] = taxa_dict[classifier][i] / (num_files * organism_count)\n",
    "        else:\n",
    "            avg_d[i] += taxa_dict[classifier][i] / (num_files * organism_count)\n",
    "\n",
    "total_files_per_sample = {}\n",
    "\n",
    "for file in files:\n",
    "    with open(file, 'rb') as f:\n",
    "        taxa_dict = pickle.load(f)\n",
    "    for i in taxa_dict[classifier]:\n",
    "        if taxa_dict[classifier][i] / total_organisms[file] < avg_d[i]:\n",
    "            continue\n",
    "        else:\n",
    "            if i not in total_files_per_sample:\n",
    "                total_files_per_sample[i] = {}\n",
    "            for j in taxa_dict[classifier]:\n",
    "                if taxa_dict[classifier][j] / total_organisms[file] >= avg_d[j]:\n",
    "                    if j not in total_files_per_sample[i]:\n",
    "                        total_files_per_sample[i][j] = 1\n",
    "                    else:\n",
    "                        total_files_per_sample[i][j] += 1   "
   ]
  },
  {
   "cell_type": "code",
   "execution_count": 5,
   "metadata": {},
   "outputs": [
    {
     "name": "stdout",
     "output_type": "stream",
     "text": [
      "16.736685440712147 87\n"
     ]
    }
   ],
   "source": [
    "# graphing\n",
    "\n",
    "sum = 0\n",
    "total = 0\n",
    "\n",
    "for key in total_files_per_sample:\n",
    "    for key2 in total_files_per_sample[key]:\n",
    "        sum += total_files_per_sample[key][key2]\n",
    "        total +=1\n",
    "\n",
    "if total == 0:\n",
    "    print(\"Error: no correlation\")\n",
    "avg_tfs = sum / total\n",
    "print(avg_tfs, num_files)\n",
    "\n",
    "graph = nx.Graph()\n",
    "used = []\n",
    "for node in total_files_per_sample:\n",
    "    if node not in used:\n",
    "        graph.add_node(node, node_size=0)\n",
    "    used.append(node)    \n",
    "\n",
    "for node in total_files_per_sample:\n",
    "    for other in total_files_per_sample[node]:\n",
    "        if node != other and total_files_per_sample[node][other] > avg_tfs * 2:             \n",
    "            graph.add_edge(node, other, weight = 0.1 * (total_files_per_sample[node][other] / num_files), color = 'black')"
   ]
  },
  {
   "cell_type": "code",
   "execution_count": null,
   "metadata": {},
   "outputs": [],
   "source": [
    "plt.figure(figsize=(15,15), dpi = 600)\n",
    "\n",
    "nx.draw_circular(graph, node_size = 1, font_size = 25, width = 0.5)\n",
    "# graph.remove_nodes_from(list(nx.isolates(graph)))\n",
    "nx.draw(graph, node_size = 1, font_size = 25, width = 0.5)\n",
    "\n",
    "\n",
    "plt.title(\"Graph of connections between \" + classifier + \" for disease \" + disease.upper(), fontsize = 25)\n",
    "plt.show()"
   ]
  }
 ],
 "metadata": {
  "kernelspec": {
   "display_name": "Python 3",
   "language": "python",
   "name": "python3"
  },
  "language_info": {
   "codemirror_mode": {
    "name": "ipython",
    "version": 3
   },
   "file_extension": ".py",
   "mimetype": "text/x-python",
   "name": "python",
   "nbconvert_exporter": "python",
   "pygments_lexer": "ipython3",
   "version": "3.9.6"
  }
 },
 "nbformat": 4,
 "nbformat_minor": 2
}
