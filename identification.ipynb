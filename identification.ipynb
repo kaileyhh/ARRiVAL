{
 "cells": [
  {
   "cell_type": "code",
   "execution_count": 18,
   "metadata": {},
   "outputs": [],
   "source": [
    "import pickle\n",
    "import glob\n",
    "import networkx as nx \n",
    "import matplotlib.pyplot as plt\n",
    "\n",
    "to_classify = [\"sample\", \"domain\", \"phylum\", \"class\", \"order\", \"family\", \"genus\"]\n",
    "# edge_fac = 42.5\n",
    "disease = \"ibd\"\n",
    "# classifier = 'family'"
   ]
  },
  {
   "cell_type": "code",
   "execution_count": 19,
   "metadata": {},
   "outputs": [
    {
     "name": "stdout",
     "output_type": "stream",
     "text": [
      "Number of sample 0\n",
      "Number of domain 3\n",
      "Number of phylum 45\n",
      "Number of class 100\n",
      "Number of order 183\n",
      "Number of family 351\n",
      "Number of genus 1090\n",
      "Number of patients 177\n",
      "Number of reads 31928\n"
     ]
    }
   ],
   "source": [
    "files = glob.glob('results/'+disease+'/'+disease+'_dicts2/*')\n",
    "taxa_dicts = []\n",
    "\n",
    "for file in files:\n",
    "    with open(file, 'rb') as f:\n",
    "        taxa_dict = pickle.load(f)\n",
    "        taxa_dicts.append(taxa_dict)\n",
    "        \n",
    "# calculate thresholds\n",
    "\n",
    "# find average value of each\n",
    "total_d = {}\n",
    "total_organisms = {}\n",
    "num_files = len(files)\n",
    "num_files_occurred = {}\n",
    "num_reads = 0\n",
    "\n",
    "for file in files:\n",
    "    with open(file, 'rb') as f:\n",
    "        taxa_dict = pickle.load(f)\n",
    "    \n",
    "    for classifier in to_classify:\n",
    "        if classifier not in total_d:\n",
    "            total_d[classifier] = {}\n",
    "        for i in taxa_dict[classifier]:\n",
    "            if i not in total_d[classifier]:\n",
    "                total_d[classifier][i] = 1\n",
    "            else:\n",
    "                total_d[classifier][i] += 1\n",
    "            num_reads += 1\n",
    "\n",
    "for classifier in to_classify:\n",
    "    print(\"Number of\", classifier, len(total_d[classifier]))\n",
    "\n",
    "print(\"Number of patients\", len(files))\n",
    "print(\"Number of reads\", num_reads)"
   ]
  },
  {
   "cell_type": "code",
   "execution_count": null,
   "metadata": {},
   "outputs": [],
   "source": []
  }
 ],
 "metadata": {
  "kernelspec": {
   "display_name": "Python 3",
   "language": "python",
   "name": "python3"
  },
  "language_info": {
   "codemirror_mode": {
    "name": "ipython",
    "version": 3
   },
   "file_extension": ".py",
   "mimetype": "text/x-python",
   "name": "python",
   "nbconvert_exporter": "python",
   "pygments_lexer": "ipython3",
   "version": "3.9.6"
  }
 },
 "nbformat": 4,
 "nbformat_minor": 2
}
