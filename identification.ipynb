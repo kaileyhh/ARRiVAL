{
 "cells": [
  {
   "cell_type": "code",
   "execution_count": 1,
   "metadata": {},
   "outputs": [],
   "source": [
    "import pickle\n",
    "import glob\n",
    "import networkx as nx \n",
    "import matplotlib.pyplot as plt\n",
    "\n",
    "to_classify = [\"sample\", \"domain\", \"phylum\", \"class\", \"order\", \"family\", \"genus\"]\n",
    "# edge_fac = 42.5\n",
    "disease = \"crc\"\n",
    "# classifier = 'family'"
   ]
  },
  {
   "cell_type": "code",
   "execution_count": null,
   "metadata": {},
   "outputs": [],
   "source": [
    "files = glob.glob('results/'+disease+'/'+disease+'_dicts/*')\n",
    "taxa_dicts = []\n",
    "\n",
    "for file in files:\n",
    "    with open(file, 'rb') as f:\n",
    "        taxa_dict = pickle.load(f)\n",
    "        taxa_dicts.append(taxa_dict)\n",
    "        \n",
    "# calculate thresholds\n",
    "\n",
    "# find average value of each\n",
    "total_d = {}\n",
    "total_organisms = {}\n",
    "num_files = len(files)\n",
    "num_files_occurred = {}\n",
    "\n",
    "for file in files:\n",
    "    with open(file, 'rb') as f:\n",
    "        taxa_dict = pickle.load(f)\n",
    "    \n",
    "    for classifier in to_classify:\n",
    "        if classifier not in total_d:\n",
    "            total_d[classifier] = {}\n",
    "        for i in taxa_dict[classifier]:\n",
    "            if i not in total_d[classifier]:\n",
    "                total_d[classifier][i] = 1\n",
    "            else:\n",
    "                total_d[classifier][i] += 1\n",
    "\n",
    "for classifier in to_classify:\n",
    "    print(\"Number of\", classifier, len(total_d[classifier]))"
   ]
  }
 ],
 "metadata": {
  "kernelspec": {
   "display_name": "Python 3",
   "language": "python",
   "name": "python3"
  },
  "language_info": {
   "codemirror_mode": {
    "name": "ipython",
    "version": 3
   },
   "file_extension": ".py",
   "mimetype": "text/x-python",
   "name": "python",
   "nbconvert_exporter": "python",
   "pygments_lexer": "ipython3",
   "version": "3.9.6"
  }
 },
 "nbformat": 4,
 "nbformat_minor": 2
}
