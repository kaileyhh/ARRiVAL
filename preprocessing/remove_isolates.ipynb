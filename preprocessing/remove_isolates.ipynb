{
 "cells": [
  {
   "cell_type": "code",
   "execution_count": 6,
   "metadata": {},
   "outputs": [],
   "source": [
    "# import statements\n",
    "\n",
    "import networkx as nx\n",
    "import pickle\n",
    "from math import comb"
   ]
  },
  {
   "cell_type": "code",
   "execution_count": 2,
   "metadata": {},
   "outputs": [],
   "source": [
    "ibs = \"ibs\"\n",
    "ibd = \"ibd\"\n",
    "crc = \"crc\"\n",
    "classifier = 'family'\n",
    "\n",
    "ibs_graph = pickle.load(open(\"../results/graphs/ibs_graph.pkl\", \"rb\"))\n",
    "ibd_graph = pickle.load(open(\"../results/graphs/ibd_graph.pkl\", \"rb\"))\n",
    "crc_graph = pickle.load(open(\"../results/graphs/crc_graph.pkl\", \"rb\"))"
   ]
  },
  {
   "cell_type": "code",
   "execution_count": 4,
   "metadata": {},
   "outputs": [],
   "source": [
    "ibs_graph.remove_nodes_from(list(nx.isolates(ibs_graph)))\n",
    "ibd_graph.remove_nodes_from(list(nx.isolates(ibd_graph)))\n",
    "crc_graph.remove_nodes_from(list(nx.isolates(crc_graph)))\n",
    "\n",
    "with open(\"../results/graphs/no_isolates/ibs_graph.pkl\", 'wb') as f:\n",
    "    pickle.dump(ibs_graph, f)\n",
    "\n",
    "with open(\"../results/graphs/no_isolates/ibd_graph.pkl\", 'wb') as f:\n",
    "    pickle.dump(ibd_graph, f)\n",
    "\n",
    "with open(\"../results/graphs/no_isolates/crc_graph.pkl\", 'wb') as f:\n",
    "    pickle.dump(crc_graph, f)"
   ]
  },
  {
   "cell_type": "code",
   "execution_count": 14,
   "metadata": {},
   "outputs": [
    {
     "name": "stdout",
     "output_type": "stream",
     "text": [
      "139 112 313\n",
      "14891626 6210820 392292290\n"
     ]
    }
   ],
   "source": [
    "print(len(ibs_graph.nodes), len(ibd_graph.nodes), len(crc_graph.nodes))\n",
    "\n",
    "n1 = len(ibs_graph.nodes)\n",
    "n2 = len(ibd_graph.nodes)\n",
    "n3 = len(crc_graph.nodes)\n",
    "\n",
    "e1 = len(ibs_graph.edges)\n",
    "e2 = len(ibd_graph.edges)\n",
    "e3 = len(crc_graph.edges)\n",
    "\n",
    "r1 = 2 * e1 / (n1 * (n1 - 1))\n",
    "r2 = 2 * e2 / (n2 * (n2 - 1))\n",
    "r3 = 2 * e3 / (n3 * (n3 - 1))\n",
    "\n",
    "print(comb(n1, 4), comb(n2, 4), comb(n3, 4))\n",
    "\n",
    "k1 = comb(n1, 4)\n",
    "k2 = comb(n2, 4)\n",
    "k3 = comb(n3, 4)"
   ]
  },
  {
   "cell_type": "code",
   "execution_count": 21,
   "metadata": {},
   "outputs": [
    {
     "name": "stdout",
     "output_type": "stream",
     "text": [
      "0.2770483223255808 3.5303228881210535 7.678874851198325\n"
     ]
    }
   ],
   "source": [
    "print (41257 / k1 * 100, 219262 / k2 * 100, 30123634 / k3 * 100)"
   ]
  },
  {
   "cell_type": "code",
   "execution_count": 22,
   "metadata": {},
   "outputs": [
    {
     "name": "stdout",
     "output_type": "stream",
     "text": [
      "0.2291086278959732 2.965325029545213 5.825593972290406\n"
     ]
    }
   ],
   "source": [
    "print (34118 / k1 * 100, 184171 / k2 * 100, 22853356 / k3 * 100)"
   ]
  },
  {
   "cell_type": "code",
   "execution_count": 23,
   "metadata": {},
   "outputs": [
    {
     "name": "stdout",
     "output_type": "stream",
     "text": [
      "0.12128964291743562 1.2804267391423354 4.377374074825687\n"
     ]
    }
   ],
   "source": [
    "print (18062 / k1 * 100, 79525 / k2 * 100, 17172101 / k3 * 100)"
   ]
  },
  {
   "cell_type": "code",
   "execution_count": 24,
   "metadata": {},
   "outputs": [
    {
     "name": "stdout",
     "output_type": "stream",
     "text": [
      "0.10145970628056332 1.3765976151297252 1.193050977372\n"
     ]
    }
   ],
   "source": [
    "print (15109 / k1 * 100, 85498 / k2 * 100, 4680247 / k3 * 100)"
   ]
  },
  {
   "cell_type": "code",
   "execution_count": 25,
   "metadata": {},
   "outputs": [
    {
     "name": "stdout",
     "output_type": "stream",
     "text": [
      "0.06435160270611147 0.568153641548137 2.958736456431504\n"
     ]
    }
   ],
   "source": [
    "print (9583 / k1 * 100, 35287 / k2 * 100, 11606895 / k3 * 100)"
   ]
  },
  {
   "cell_type": "code",
   "execution_count": 26,
   "metadata": {},
   "outputs": [
    {
     "name": "stdout",
     "output_type": "stream",
     "text": [
      "0.002343599013297809 0.03458480522700706 0.027854740657788608\n"
     ]
    }
   ],
   "source": [
    "print (349 / k1 * 100, 2148 / k2 * 100, 109272 / k3 *100)"
   ]
  },
  {
   "cell_type": "code",
   "execution_count": null,
   "metadata": {},
   "outputs": [],
   "source": []
  }
 ],
 "metadata": {
  "kernelspec": {
   "display_name": "Python 3",
   "language": "python",
   "name": "python3"
  },
  "language_info": {
   "codemirror_mode": {
    "name": "ipython",
    "version": 3
   },
   "file_extension": ".py",
   "mimetype": "text/x-python",
   "name": "python",
   "nbconvert_exporter": "python",
   "pygments_lexer": "ipython3",
   "version": "3.9.6"
  }
 },
 "nbformat": 4,
 "nbformat_minor": 2
}
