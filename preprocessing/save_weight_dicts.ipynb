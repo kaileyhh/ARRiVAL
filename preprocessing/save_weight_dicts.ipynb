{
 "cells": [
  {
   "cell_type": "markdown",
   "metadata": {},
   "source": [
    "Save inter-taxa relationships into `.pkl` dict for easier use"
   ]
  },
  {
   "cell_type": "code",
   "execution_count": 9,
   "metadata": {},
   "outputs": [],
   "source": [
    "import pickle\n",
    "import glob\n",
    "import networkx as nx \n",
    "import matplotlib.pyplot as plt\n",
    "\n",
    "to_classify = [\"sample\", \"domain\", \"phylum\", \"class\", \"order\", \"family\", \"genus\"]\n",
    "\n",
    "disease = \"crc\"\n",
    "classifier = 'family'"
   ]
  },
  {
   "cell_type": "code",
   "execution_count": 10,
   "metadata": {},
   "outputs": [],
   "source": [
    "files = glob.glob('results/'+disease+'/'+disease+'_dicts/*')\n",
    "taxa_dicts = []\n",
    "\n",
    "for file in files:\n",
    "    with open(file, 'rb') as f:\n",
    "        taxa_dict = pickle.load(f)\n",
    "        taxa_dicts.append(taxa_dict)\n",
    "        \n",
    "# calculate thresholds\n",
    "\n",
    "# find average value of each\n",
    "avg_d = {}\n",
    "total_organisms = {}\n",
    "num_files = len(files)\n",
    "num_files_occurred = {}\n",
    "\n",
    "for file in files:\n",
    "    with open(file, 'rb') as f:\n",
    "        taxa_dict = pickle.load(f)\n",
    "    \n",
    "    # count total organisms per patient\n",
    "    organism_count = 0\n",
    "    for i in taxa_dict[classifier]:\n",
    "        organism_count += taxa_dict[classifier][i]\n",
    "        if i not in num_files_occurred:\n",
    "            num_files_occurred[i] = 1\n",
    "        else:\n",
    "            num_files_occurred[i] += 1\n",
    "    total_organisms[file] = organism_count\n",
    "\n",
    "    # add normalized data to the total, and divide by number of patients to average\n",
    "    for i in taxa_dict[classifier]:\n",
    "        if i not in avg_d:\n",
    "            avg_d[i] = taxa_dict[classifier][i] / (num_files * organism_count)\n",
    "        else:\n",
    "            avg_d[i] += taxa_dict[classifier][i] / (num_files * organism_count)\n",
    "\n",
    "total_files_per_sample = {}\n",
    "\n",
    "for file in files:\n",
    "    with open(file, 'rb') as f:\n",
    "        taxa_dict = pickle.load(f)\n",
    "    for i in taxa_dict[classifier]:\n",
    "        if taxa_dict[classifier][i] / total_organisms[file] < avg_d[i]:\n",
    "            continue\n",
    "        else:\n",
    "            if i not in total_files_per_sample:\n",
    "                total_files_per_sample[i] = {}\n",
    "            for j in taxa_dict[classifier]:\n",
    "                if taxa_dict[classifier][j] / total_organisms[file] >= avg_d[j]:\n",
    "                    if j not in total_files_per_sample[i]:\n",
    "                        total_files_per_sample[i][j] = 1\n",
    "                    else:\n",
    "                        total_files_per_sample[i][j] += 1   \n",
    "\n",
    "filepath = \"results/file_dicts/\"+disease+\"_\"+classifier+\".pkl\"\n",
    "\n",
    "with open(filepath, 'wb') as f:\n",
    "    pickle.dump(total_files_per_sample, f)"
   ]
  },
  {
   "cell_type": "code",
   "execution_count": 6,
   "metadata": {},
   "outputs": [],
   "source": [
    "with open(filepath, 'rb') as f:\n",
    "    total_files_per_sample = pickle.load(f)"
   ]
  },
  {
   "cell_type": "code",
   "execution_count": null,
   "metadata": {},
   "outputs": [],
   "source": []
  }
 ],
 "metadata": {
  "kernelspec": {
   "display_name": "Python 3",
   "language": "python",
   "name": "python3"
  },
  "language_info": {
   "codemirror_mode": {
    "name": "ipython",
    "version": 3
   },
   "file_extension": ".py",
   "mimetype": "text/x-python",
   "name": "python",
   "nbconvert_exporter": "python",
   "pygments_lexer": "ipython3",
   "version": "3.9.6"
  }
 },
 "nbformat": 4,
 "nbformat_minor": 2
}
