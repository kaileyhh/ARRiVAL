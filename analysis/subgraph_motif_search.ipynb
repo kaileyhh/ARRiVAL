{
 "cells": [
  {
   "cell_type": "code",
   "execution_count": 1,
   "metadata": {},
   "outputs": [],
   "source": [
    "# import statements\n",
    "\n",
    "import networkx as nx\n",
    "import matplotlib.pyplot as plt\n",
    "import pickle\n",
    "from math import comb\n",
    "from tqdm import tqdm\n",
    "import numpy as np"
   ]
  },
  {
   "cell_type": "code",
   "execution_count": 5,
   "metadata": {},
   "outputs": [],
   "source": [
    "disease = \"ibs\"\n",
    "\n",
    "graph = pickle.load(open(\"../results/graphs/\"+disease+\"_graph.pkl\", \"rb\"))\n",
    "\n",
    "clique_size = 3\n",
    "total_iters = 10000"
   ]
  },
  {
   "cell_type": "code",
   "execution_count": 34,
   "metadata": {},
   "outputs": [],
   "source": [
    "def count_3_cliques(G):\n",
    "    A = np.array(nx.adjacency_matrix(G).todense())\n",
    "\n",
    "    C = A @ A @ A\n",
    "\n",
    "    return np.trace(C) // 6"
   ]
  },
  {
   "cell_type": "code",
   "execution_count": 6,
   "metadata": {},
   "outputs": [
    {
     "name": "stdout",
     "output_type": "stream",
     "text": [
      "139\n"
     ]
    },
    {
     "name": "stderr",
     "output_type": "stream",
     "text": [
      "100%|██████████| 10000/10000 [00:12<00:00, 800.95it/s]\n"
     ]
    }
   ],
   "source": [
    "graph.remove_nodes_from(list(nx.isolates(graph)))\n",
    "\n",
    "n = len(graph.nodes)\n",
    "m = len(graph.edges)\n",
    "print(n)\n",
    "\n",
    "# cliques = count_3_cliques(graph)# [s for s in nx.enumerate_all_cliques(graph) if len(s) == clique_size]\n",
    "cliques = len([s for s in nx.enumerate_all_cliques(graph) if len(s) == clique_size])\n",
    "\n",
    "# n = len(graph.nodes)\n",
    "# m = len(graph.edges)\n",
    "\n",
    "sum = 0\n",
    "\n",
    "for i in tqdm(range(total_iters)):\n",
    "    random_graph = nx.fast_gnp_random_graph(n, m / (n**2))\n",
    "    cliques_random = [s for s in nx.enumerate_all_cliques(random_graph) if len(s) == clique_size]\n",
    "    # sum += count_3_cliques(random_graph)\n",
    "    sum += len(cliques_random)\n",
    "\n",
    "average_num_cliques = sum / total_iters\n",
    "\n"
   ]
  },
  {
   "cell_type": "code",
   "execution_count": 7,
   "metadata": {},
   "outputs": [
    {
     "name": "stdout",
     "output_type": "stream",
     "text": [
      "IBS number of cliques of size 3 : 2988 percentage: 0.6822089139224958\n",
      "IBS expected number of cliques: 23.6699 percentage: 0.005404222480473253\n"
     ]
    }
   ],
   "source": [
    "\n",
    "# expected_num_cliques = comb(n, clique_size) * (2**(clique_size)) / (5**(clique_size))\n",
    "\n",
    "print(disease.upper(), \"number of cliques of size\", clique_size, \":\", cliques, \"percentage:\", cliques / comb(n, clique_size) * 100)\n",
    "print(disease.upper(), \"expected number of cliques:\", average_num_cliques, \"percentage:\", average_num_cliques/ comb(n, clique_size) * 100)"
   ]
  },
  {
   "cell_type": "code",
   "execution_count": null,
   "metadata": {},
   "outputs": [],
   "source": []
  }
 ],
 "metadata": {
  "kernelspec": {
   "display_name": "Python 3",
   "language": "python",
   "name": "python3"
  },
  "language_info": {
   "codemirror_mode": {
    "name": "ipython",
    "version": 3
   },
   "file_extension": ".py",
   "mimetype": "text/x-python",
   "name": "python",
   "nbconvert_exporter": "python",
   "pygments_lexer": "ipython3",
   "version": "3.9.6"
  }
 },
 "nbformat": 4,
 "nbformat_minor": 2
}
