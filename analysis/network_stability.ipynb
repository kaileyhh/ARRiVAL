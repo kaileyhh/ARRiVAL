{
 "cells": [
  {
   "cell_type": "markdown",
   "metadata": {},
   "source": [
    "### Network stability analysis\n",
    "* done using the abundance-weighted mean interaction strength (wMISi) index\n",
    "* calculate stability using sum of wMISi indices"
   ]
  },
  {
   "cell_type": "code",
   "execution_count": 78,
   "metadata": {},
   "outputs": [],
   "source": [
    "# import statements\n",
    "\n",
    "import networkx as nx\n",
    "import numpy as np\n",
    "import matplotlib.pyplot as plt\n",
    "import pickle\n",
    "from math import comb\n",
    "import statistics\n",
    "import glob\n",
    "from tqdm import tqdm\n",
    "\n",
    "dis = \"crc\"\n",
    "\n",
    "files = glob.glob('../results/'+dis+'/'+dis+'_dicts/*')\n",
    "# ibd_files = glob.glob('../results/'+ibd+'/'+ibd+'_dicts/*')\n",
    "# crc_files = glob.glob('../results/'+ibs+'/'+ibs+'_dicts/*')\n",
    "\n",
    "graph = pickle.load(open(\"../results/graphs/\"+dis+\"_graph.pkl\", \"rb\"))\n",
    "# ibd_graph = pickle.load(open(\"../results/graphs/ibd_graph.pkl\", \"rb\"))\n",
    "# crc_graph = pickle.load(open(\"../results/graphs/crc_graph.pkl\", \"rb\"))\n",
    "\n",
    "classifier = \"family\""
   ]
  },
  {
   "cell_type": "code",
   "execution_count": 79,
   "metadata": {},
   "outputs": [],
   "source": [
    "# calculate relative abundance (tot):\n",
    "tot = {}\n",
    "num = 0\n",
    "denom = 0\n",
    "\n",
    "for file in files:\n",
    "    with open(file, 'rb') as f:\n",
    "        taxa_dict = pickle.load(f)\n",
    "    \n",
    "\n",
    "    # count total taxa\n",
    "    for i in taxa_dict[classifier]:\n",
    "        if i not in tot:\n",
    "            tot[i] = taxa_dict[classifier][i]\n",
    "        else:\n",
    "            tot[i] += taxa_dict[classifier][i]\n",
    "        denom += taxa_dict[classifier][i]\n",
    "\n",
    "for i in tot:\n",
    "    tot[i] /= denom \n",
    "    tot[i] *= 100"
   ]
  },
  {
   "cell_type": "code",
   "execution_count": 82,
   "metadata": {},
   "outputs": [],
   "source": [
    "def cov(x, y):\n",
    "    res = 0\n",
    "    for file in files:\n",
    "        with open(file, 'rb') as f:\n",
    "            taxa_dict = pickle.load(f)\n",
    "        if x in taxa_dict[classifier] and y in taxa_dict[classifier]:\n",
    "            res += (taxa_dict[classifier][x] - (tot[x] / len(files))) * (taxa_dict[classifier][y] - (tot[y] / len(ibs_files))) \n",
    "\n",
    "    res /= (len(files)-1)\n",
    "    return res\n",
    "\n",
    "def std(x):\n",
    "    res = 0\n",
    "    for file in files:\n",
    "        with open(file, 'rb') as f:\n",
    "            taxa_dict = pickle.load(f)\n",
    "        if x in taxa_dict[classifier]:\n",
    "            res += (taxa_dict[classifier][x] - (tot[x] / len(files)))**2\n",
    "\n",
    "    res /= (len(files))\n",
    "    res = res**(1/2)\n",
    "    return res\n",
    "\n",
    "def spearman(x, y):\n",
    "    return (cov(x, y)/(std(x) * std(y)))"
   ]
  },
  {
   "cell_type": "code",
   "execution_count": 83,
   "metadata": {},
   "outputs": [
    {
     "name": "stderr",
     "output_type": "stream",
     "text": [
      "100%|██████████| 614/614 [13:25<00:00,  1.31s/it]"
     ]
    },
    {
     "name": "stdout",
     "output_type": "stream",
     "text": [
      "{'Weeksellaceae': 0.0, 'Odoribacteraceae': 0.0, 'Fusobacteriaceae': 0.0, 'Lachnospiraceae': 0.0, 'Prevotellaceae': 0.0, 'Peptoniphilaceae': 0.0, 'Bacteroidaceae': 0.0, 'Corynebacteriaceae': 0.0, 'Micrococcaceae': 0.0, 'Veillonellaceae': 0.0, 'Coriobacteriaceae': 0.0, 'Microbacteriaceae': 0.0, 'Petrotogaceae': 0.0, 'Erysipelotrichaceae': 0.0, 'Balneicellaceae': 0.0, 'Moraxellaceae': 0.0, 'Erwiniaceae': 0.0, 'Morganellaceae': 0.0, 'Gracilibacteraceae': 7.707087771638611e-06, 'Bacillaceae': 0.0, 'Eubacteriales_incertae_sedis_XIII': 0.0, 'Burkholderiaceae': 0.0, 'Porphyromonadaceae': 0.0, 'Pseudomonadaceae': 6.396008151509125e-06, 'Synergistaceae': 0.0, 'Streptococcaceae': 0.0, 'Williamwhitmaniaceae': 0.0, 'Propionibacteriaceae': 0.0, 'XI': 0.0, '1': 0.0, 'Enterococcaceae': 0.0, 'Acholeplasmataceae': 0.0, 'Marinimicrobia_genera_incertae_sedis': 0.0, 'Peptostreptococcaceae': 0.0, 'Enterobacteriaceae': 0.0, 'Mesoaciditogaceae': 1.127927670613178e-07, 'Methanomassiliicoccaceae': 0.0, 'Victivallaceae': 0.0, 'Iainarchaeum': 0.0, 'Limnochordaceae': 0.0, 'Bifidobacteriaceae': 0.0, 'Aquificales_incertae_sedis': 1.0994740804111697e-05, 'Selenomonadaceae': 0.0, 'Microscillaceae': 0.0, 'Campylobacteraceae': 0.0, 'Acidaminococcaceae': 0.0, 'Actinomycetales_incertae_sedis': 0.0, 'Brucellaceae': 0.0, 'Ferrovaceae': 0.0, 'Calotrichaceae': 1.6893751633592425e-05, 'Promicromonosporaceae': 0.0, 'Dermabacteraceae': 0.0, 'Xylanivirgaceae': 0.0, 'Ardenticatenaceae': 7.98897637204917e-06, 'Nitrospiraceae': 0.0, 'Caryophanaceae': 3.0087191879752394e-05, 'Capsulimonadaceae': 2.0311652589984312e-07, 'Halobacteroidaceae': 3.6697488422618875e-06, 'Carnobacteriaceae': 2.4942616376028338e-05, 'Bernardetiaceae': 2.738869021545372e-05, 'Syntrophorhabdaceae': 0.0, 'Rhodospirillaceae': 2.760557797687085e-05, 'Aestuariivirgaceae': 2.9958329192162963e-05, 'Isosphaeraceae': 3.054217882142686e-05, 'Proteinivoraceae': 1.7664054665349893e-05, 'Anaeroplasmataceae': 1.748156816650499e-05, 'Comamonadaceae': 1.5376135637210383e-05, 'Methanoregulaceae': 0.0, 'Rhabdaerophilaceae': 2.4375420586871123e-05, 'Deferribacteraceae': 1.5872803774199023e-05, 'Nannocystaceae': 0.0, 'Planctomycetaceae': 2.5875461003916e-05, 'Paenibacillaceae': 1.4825410297399496e-05, 'Chitinophagaceae': 1.7175884962091035e-05, 'Flavobacteriaceae': 2.6289131497970545e-05, 'Eubacteriales_incertae_sedis': 1.4387438712417033e-05, 'Francisellaceae': 1.6748282803022048e-05, 'Ectothiorhodospiraceae': 0.0, 'Anaerolineaceae': 1.820740393911152e-05, 'Gloeomargaritaceae': 1.6095194806661143e-05, 'Nostocaceae': 1.4161724637997062e-05, 'Orbaceae': 1.3900436386773655e-05, 'Spirosomaceae': 2.523097007841324e-05, 'Kiloniellaceae': 1.9366925772215107e-05, 'Tichowtungiaceae': 1.6543486750346454e-05, 'Geminocystaceae': 0.0, 'Thermoguttaceae': 2.954775371055482e-05, 'Fastidiosibacteraceae': 2.7366629098147638e-05, 'Desulfarculaceae': 2.3841234277506995e-05, 'Sphingobacteriaceae': 1.88235287801933e-05, 'Ktedonobacteraceae': 1.2932217162150535e-05, 'Rhodovibrionaceae': 1.6728314103837097e-05, 'Aminiphilaceae': 2.7992756284973786e-05, 'Methanonatronarchaeaceae': 1.836385727948003e-05, 'AR17': 1.8913402294489222e-05, 'Paracoccaceae': 2.9157343823877296e-05, 'Thiofilaceae': 2.7316231721092103e-05, 'Rhodanobacteraceae': 1.9662866537135174e-05, 'AR20': 0.0, 'Tenuifilaceae': 8.911260383927068e-06, 'Cryomorphaceae': 1.8199924132339937e-05, 'Haloarculaceae': 3.104478050041364e-05, 'Roseobacteraceae': 2.7422812301266103e-05, 'Cyclobacteriaceae': 2.6569282513517072e-05, 'Eubacteriales_incertae_sedis_XI': 2.9763516523295404e-05, 'Halieaceae': 2.5458506059525447e-05, 'Oceanospirillaceae': 2.105507757850286e-05, 'Temperatibacteraceae': 0.0, 'Glycomycetaceae': 2.6576143065135498e-05, 'Pasteurellaceae': 0.0, 'Saprospiraceae': 1.977106730575894e-07, 'Vibrionaceae': 1.782820038475738e-05, 'Oculatellaceae': 1.2511283776603865e-05, 'AR15': 2.062102276457234e-05, 'Kallotenuaceae': 8.675721416951189e-06, 'Sterolibacteriaceae': 0.0, 'Oligosphaeraceae': 2.3725937032943612e-05, 'Tissierellaceae': 1.8534471898815704e-05, 'Halanaerobiaceae': 1.7874671429755275e-05, 'Bryobacteraceae': 1.4469063001317327e-05, 'Eggerthellaceae': 2.3277679524572375e-05, 'Gemmatales_incertae_sedis': 0.0, 'Puniceicoccaceae': 2.943943735125216e-05, 'Vicinamibacteraceae': 1.9757336243586198e-05, 'Xanthomonadaceae': 1.887171872436711e-05, 'Nodosilineaceae': 2.620262889007792e-05, 'Balneolaceae': 2.0636509919207435e-05, 'Koleobacteraceae': 0.0, 'Lacipirellulaceae': 2.391514140241124e-05, 'Acetobacteraceae': 3.012689032976741e-05, 'Mycoplasmataceae': 1.976820519141188e-08, 'Nocardiopsaceae': 8.042506584481008e-07, 'Halobacteriaceae': 2.179597932500727e-05, 'Zoogloeaceae': 1.3707194434113584e-05, 'Chromatiaceae': 1.8667050757910806e-05, 'Arenimicrobiaceae': 1.8013893624629737e-05, 'Gaiellaceae': 1.7336402757164474e-05, 'Anaerohalosphaeraceae': 1.525802573265755e-05, 'Tepidisphaeraceae': 2.1435826699986872e-05, 'Methylococcaceae': 1.6134942515614276e-05, 'Oligoflexaceae': 1.4935385718148377e-05, 'Dermatophilaceae': 1.3547107215689351e-05, 'Aeromonadaceae': 1.9494824469857827e-05, 'Eubacteriaceae': 1.9515939382444375e-05, 'Entomoplasmataceae': 9.657508378335364e-06, 'Thermoflexibacteraceae': 0.0, 'Crocinitomicaceae': 1.682787806287291e-05, 'Aerococcaceae': 9.235586039239904e-06, 'Nautiliaceae': 2.7036998131184133e-05, 'Phycisphaeraceae': 3.144497731986896e-05, 'Rhizobiaceae': 0.0, 'Cyanothecaceae': 1.6674365812779665e-05, 'Algiphilaceae': 6.963383923257698e-06, 'Leptospiraceae': 0.0, 'Cellvibrionaceae': 2.0368576927429555e-05, 'Halothiobacillaceae': 2.050821612384429e-05, 'Prolixibacteraceae': 1.1540483127122436e-05, 'Minwuiaceae': 1.3244515052237226e-05, 'Sneathiellaceae': 2.6828308435676303e-05, 'Schleiferiaceae': 1.5791405811545722e-05, 'Caulobacteraceae': 2.757629145635107e-05, 'Natranaerobiaceae': 3.4872360290875345e-06, 'Chitinivibrionaceae': 9.615378309377174e-06, 'Aenigmarchaeum': 1.986049130973765e-05, 'Neisseriaceae': 2.8790678012398464e-05, 'Thiotrichaceae': 2.5128018477816076e-05, 'Hahellaceae': 1.2978932143607372e-05, 'Wilmottiaceae': 1.713325859088322e-05, 'AR16': 4.710382811269946e-06, 'Archangiaceae': 2.8944289771226507e-05, 'Lawsonellaceae': 0.0, 'Thalassospiraceae': 1.839691611889544e-05, 'Nitratiruptoraceae': 7.824533084884066e-06, 'Intrasporangiaceae': 2.1225150948752064e-05, 'Dysgonomonadaceae': 1.865942636494234e-05, 'Hyphomonadaceae': 2.2248523040572795e-05, 'Halorubraceae': 2.0472499087740302e-05, 'Thorselliaceae': 1.5140046851547426e-05, 'Eubacteriales_incertae_sedis_XII': 1.8667124884583878e-05, 'Ktedonosporobacteraceae': 1.7701602853731876e-05, 'Bdellovibrionaceae': 4.525490204589279e-06, 'Sphingosinicellaceae': 0.0, 'Desulfobacteraceae': 0.0, 'Alcaligenaceae': 3.0388530889529326e-05, 'Leptotrichiaceae': 1.904726233200452e-05, 'Gemmataceae': 3.159451982154324e-05, 'Bradymonadaceae': 0.0, 'Pirellulaceae': 2.926877677732677e-05, 'Mangrovivirgaceae': 7.905132017477326e-09, 'Hydrogenispora': 1.713529945780457e-05, 'Nevskiaceae': 1.1591362760071966e-05, 'Maricaulaceae': 0.0, 'Petrachloraceae': 1.760625159821542e-05, 'Spirochaetaceae': 2.6047230599155422e-05, 'Fortieaceae': 0.0, 'Ventosimonadaceae': 0.0, 'Acanthopleuribacteraceae': 1.638762198816771e-05, 'Desulfobulbaceae': 1.9099924409844266e-05, 'Myxococcaceae': 9.201056209769455e-06, 'Salisaetaceae': 1.925639992279271e-05, 'Desulfurobacteriaceae': 2.0538216575687152e-05, 'Gemmatimonadaceae': 1.6517763121203603e-05, 'Methanopyraceae': 1.390664547483277e-05, 'Flammeovirgaceae': 1.792935890426488e-05, 'Erythrobacteraceae': 2.2743886109272698e-05, 'Burkholderiales_incertae_sedis': 2.358682563804662e-05, 'Parvibaculaceae': 1.9085865918561238e-05, 'Halomonadaceae': 2.182519959127509e-05, 'Devosiaceae': 2.2654687928876187e-05, 'Thermoanaerobacterales_incertae_sedis': 0.0, 'AR18': 8.527171999847736e-07, 'Aphanothecaceae': 1.7871227948750484e-05, 'Aggregatilineaceae': 1.9149442414571593e-06, 'Acidobacteriaceae': 1.6701189226732213e-05, 'Scytonemataceae': 1.3861377248860871e-05, 'Aminithiophilaceae': 1.7992175440243567e-05, 'Salinibacteraceae': 2.0845596238562023e-05, 'Neomegalonemataceae': 1.661369987603007e-05, 'Streptosporangiaceae': 1.8484473301481992e-05, 'Xanthobacteraceae': 3.0122618393701596e-05, 'Azospirillaceae': 2.1722446340317214e-05, 'Methermicoccaceae': 9.958350185995063e-06, 'Natrialbaceae': 2.4703179612314012e-05, 'Treboniaceae': 1.048544574333257e-05, 'Pleomorphomonadaceae': 1.7691552374187942e-05, 'Filobacteriaceae': 3.2312922268676356e-06, 'Thermoactinomycetaceae': 2.094330688552804e-05, 'Nodulariaceae': 2.426686312825113e-05, 'Mooreiaceae': 2.136926704799311e-05, 'Chlorobiaceae': 1.1948980286162494e-05, 'Longimicrobiaceae': 9.704484369837107e-06, 'Syntrophobacteraceae': 1.9411850889754033e-05, 'Geovibrionaceae': 9.582174929607335e-06, 'Caldilineaceae': 1.2872109442631373e-05, 'Emcibacteraceae': 1.2072319759312858e-05, 'Chroococcaceae': 1.760784761521254e-05, 'Spongiibacteraceae': 2.721980054094642e-05, 'Syntrophaceae': 1.6866438278785234e-05, 'Deinococcaceae': 1.7173625023885478e-05, 'Parvularculaceae': 0.0, 'Procabacteriaceae': 0.0, 'Chlorogloeopsidaceae': 2.8844571934675975e-06, 'Desulfohalobiaceae': 1.1925789076215074e-05, 'Granulosicoccaceae': 7.787733148902338e-06, 'Nanoarchaeum': 2.2988339746922203e-05, 'Aquificaceae': 0.0, 'Vulgatibacteraceae': 1.7089182258344127e-05, 'Criblamydiaceae': 0.0, 'Gynuellaceae': 2.9591977202519497e-05, 'Saccharospirillaceae': 1.0935011497900037e-05, 'Phyllobacteriaceae': 0.0, 'Chitinispirillaceae': 1.0082152007834645e-05, 'Pseudanabaenaceae': 1.9040062801943974e-05, 'Acidimicrobiaceae': 1.2248567928872872e-05, 'Micromonosporaceae': 1.9881630345739623e-05, 'Catalimonadaceae': 1.8033796334647893e-05, 'Symphyonemataceae': 0.0, 'Luteivirga': 0.0, 'Dermacoccaceae': 2.7244534877393084e-06, 'Dictyobacteraceae': 6.974233177575873e-06, 'Actinospicaceae': 9.505822020821098e-06, 'Methylophilaceae': 1.846848739733434e-05, 'Thioalkalibacteraceae': 0.0, 'Pseudobacteriovoracaceae': 2.0584206991771164e-05, 'Haloferacaceae': 2.3762901540971343e-05, 'Micropepsaceae': 1.755238651301099e-05, 'Holophagaceae': 1.5778855839972927e-05, 'Chroococcidiopsidaceae': 1.392465091064454e-05, 'Segnochrobactraceae': 0.0, 'ZB3_genera_incertae_sedis': 1.219433057089698e-05, 'Raineyaceae': 2.7945240970467275e-05, 'Acetothermia_genera_incertae_sedis': 1.0993928832091343e-05, 'Thermithiobacillaceae': 3.311202845145632e-06, 'Brevibacteriaceae': 2.2831447769194975e-06, 'Salinisphaeraceae': 1.2384912703169365e-05, 'Limisphaera': 1.6024447695894928e-05, 'Natronospirillaceae': 2.2156112540349238e-05, 'Arenicellaceae': 0.0, 'Pseudonocardiales_incertae_sedis': 9.552808170931706e-06, 'Piscirickettsiaceae': 0.0, 'Stappiaceae': 1.655917104827085e-05, 'Geitlerinemataceae': 5.947291008669395e-06, 'Oleiphilaceae': 1.6250459066759194e-05, 'Ilumatobacteraceae': 1.812584158307392e-05, 'Aurantimonadaceae': 2.0708070623488403e-05, 'Hyphomicrobiaceae': 1.7647507009533812e-05, 'Alicyclobacillaceae': 1.8778802655610294e-05, '2': 1.6469843548298146e-05, 'Alteromonadales_incertae_sedis': 1.8104531266064962e-05, 'Entophysalidaceae': 7.006126494923385e-06, 'Heteroscytonemataceae': 0.0, 'Sporichthyaceae': 1.1300027103690413e-05, 'Nitriliruptoraceae': 2.1510083534108118e-06, 'Methanothermaceae': 0.0, 'Acidibacter': 1.770880999614897e-05, 'Phaselicystidaceae': 2.1720204196712265e-05, 'Gloeobacteraceae': 0.0, 'Egicoccaceae': 0.0, 'Rhodothalassiaceae': 0.0, 'Gomontiellaceae': 1.3982524168607186e-05, 'Thiohalorhabdus': 1.3915293620759906e-05, 'Natronoarchaeaceae': 8.359029260977683e-06, 'Lichenihabitantaceae': 6.485964091581286e-06, 'Mariprofundaceae': 7.932449266851633e-06, 'Konicacronemataceae': 0.0, 'Nitrospinaceae': 0.0, 'Echinimonas': 1.2507531951916687e-05, 'Nitrososphaeraceae': 6.981356583822034e-06, 'Kangiellaceae': 0.0, 'Subdivision5_genera_incertae_sedis': 0.0, 'Thiosocius': 2.1096847746963364e-06, 'Nitrobacteraceae': 8.589691862214602e-06, 'Terrimicrobiaceae': 7.873409174248453e-06, 'Thiobacillaceae': 1.7328512926027353e-05, 'Coprobacillaceae': 0.0, 'Reichenbachiellaceae': 1.8437519214548915e-05, 'Desulfurococcaceae': 1.0081205817103036e-05, 'Peptococcaceae': 0.0, 'Opitutaceae': 4.18323185775654e-06, 'Acidilutibacteraceae': 0.0, 'Blastocatellales_incertae_sedis': 7.448106724002809e-06, 'Dissulfurispiraceae': 0.0, 'Chrysiogenaceae': 0.0, 'Atopobiaceae': 1.0984741691720185e-05, 'Jonesiaceae': 4.1569238700116615e-06, 'Thiolapillus': 3.855899547913635e-09, 'Sulfolobaceae': 0.0, 'Cytophagaceae': 0.0, 'Hafniaceae': 1.4995285904300224e-05, 'Bradyrhizobiaceae': 0.0, 'Methanococcaceae': 0.0, 'Actinomycetaceae': 0.0, 'Pyrodictiaceae': 0.0, 'Thermaceae': 0.0, 'Thermosediminibacteraceae': 2.9750837891223593e-08, 'Kiritimatiellaceae': 1.3581309543156353e-05, 'Calescibacterium': 1.03244354817886e-05, 'Rubricoccaceae': 0.0, 'Treponemataceae': 0.0, 'Simkaniaceae': 0.0, 'Cyclonatronaceae': 1.1137751556816854e-05, 'Godleyaceae': 1.598446105607257e-05, 'Desertifilaceae': 0.0, 'Polyangiaceae': 2.7697028473399554e-05, 'Thermoflexaceae': 0.0, 'Chromobacteriaceae': 2.3745615333650455e-05, 'Archaeoglobaceae': 0.0, 'Steroidobacteraceae': 7.740030089867147e-06, 'Reticulibacteraceae': 1.101396197926199e-05, 'Zhaonellaceae': 0.0, 'Stellaceae': 0.0, 'Ichthyobacteriaceae': 2.296653530135107e-05, 'Soortiaceae': 1.1778784225107893e-08, 'Spirochaetales_incertae_sedis': 0.0, 'Ignavibacteriaceae': 0.0, 'Streptomycetaceae': 9.394963991151135e-06, 'Fluviibacteraceae': 7.628040471677007e-06, 'Coxiellaceae': 2.3582181722295927e-07, 'AR13': 7.947613041250624e-06, 'Oscillatoriaceae': 0.0, 'Methylocystaceae': 1.112752954501595e-05, 'Woeseiaceae': 5.53701452195833e-06, 'Shewanellaceae': 0.0, 'Acidilobaceae': 0.0, 'Thermoanaerobacteraceae': 2.109155581656544e-05, 'Tepidamorphaceae': 0.0, 'Lusitaniellaceae': 0.0, 'Atribacteraceae': 0.0, 'WPS-2_genera_incertae_sedis': 1.016182321579746e-05, 'Anthocerotibacteraceae': 4.161121629809422e-08, 'Egibacteraceae': 0.0, 'Geminicoccaceae': 0.0, 'Symbiobacteriaceae': 1.3661266555520868e-05, 'Thermotomaculaceae': 2.370478944059832e-05, 'Baekduiaceae': 1.2642807983334148e-05, 'Iamiaceae': 6.660786553715264e-06, 'Microvenatoraceae': 1.0364499270044691e-05, 'Thermodesulfobacteriaceae': 1.4200715193046144e-08, 'Notoacmeibacteraceae': 0.0, 'Coleofasciculaceae': 0.0, 'Tolypotrichaceae': 0.0, 'Cellulomonadaceae': 1.4525473482282264e-05, 'Pseudonocardiaceae': 0.0, 'Anaerosomataceae': 1.5057483398540641e-05, 'Omnitrophica_genera_incertae_sedis': 6.3287712710839096e-06, 'Pelomicrobium': 1.0116148461397075e-05, 'Vallitaleaceae': 7.353818298331758e-06, 'Muribaculaceae': 0.0, 'Hyphomicrobiales_incertae_sedis': 0.0, 'Roseiflexaceae': 8.394176351891079e-06, 'Tepidiformaceae': 1.27254440778711e-05, 'Kofleriaceae': 3.667309678921024e-09, 'Neosynechococcaceae': 0.0, 'Syntrophomonadaceae': 2.276184227564202e-05, 'Hymenobacteraceae': 1.094135231662495e-05, 'Cymatolegaceae': 0.0, 'Labilitrichaceae': 7.209777413024845e-06, 'Ancalomicrobiaceae': 0.0, 'Dissulfurirhabdus': 9.536685764468631e-06, 'Bogoriellaceae': 0.0, 'Thermosynergistaceae': 3.0634836803294442e-06, 'Bacillales_incertae_sedis': 6.355450622449051e-06, 'Ferritrophicaceae': 0.0, 'Thermofilaceae': 0.0, 'Waddliaceae': 8.518129813114462e-06, 'Pyrinomonadaceae': 0.0, 'Thermomicrobiaceae': 0.0, 'Laspinemataceae': 0.0, 'Gp21': 0.0, 'Gallionellaceae': 1.873630064361389e-05, 'Rivulariaceae': 0.0, 'Immundisolibacteraceae': 9.002457115263676e-06, 'Thioalkalispiraceae': 2.016814756867664e-05, 'Methanomicrobiaceae': 0.0, 'Thioprofundaceae': 7.679543906861384e-06, 'Capillibacterium': 1.4670889338377564e-05, 'Trueperaceae': 0.0, 'Picrophilaceae': 5.39679352916799e-08, 'Sirenicapillariaceae': 0.0, 'Salsipaludibacteraceae': 6.394240138148241e-08, 'Pseudoalteromonadaceae': 1.696498098180067e-05, 'Dissulfurimicrobium': 9.14004603223429e-06, 'Salinarimonadaceae': 0.0, 'Moritellaceae': 0.0, 'Gordoniaceae': 0.0, 'Nocardiaceae': 9.901977136376734e-06, 'Dapisostemonaceae': 0.0, 'Acidimicrobiales_incertae_sedis': 1.152938120306436e-06, 'Roseiarcaceae': 0.0, 'Oscillospiraceae': 0.0, 'Bacteriovoracaceae': 1.4010005634641226e-05, 'Caldisphaeraceae': 4.823431343180983e-08, 'Balneatricaceae': 1.1384120447363764e-05, 'Desulfosudaceae': 2.0342615506401858e-05, 'Sporomusaceae': 0.0, 'Alcanivoracaceae': 6.602258711325543e-06, 'Abditibacteriaceae': 1.673751985458737e-05, 'Eubacteriales_incertae_sedis_III': 0.0, 'Thermogemmatisporaceae': 0.0, 'Dissulfuribacteraceae': 0.0, 'Hydrogenophilaceae': 0.0, 'Methanobacteriaceae': 0.0, 'Geodermatophilaceae': 2.0675727004200087e-05, 'Beutenbergiaceae': 1.5725162467536553e-08, 'Pontiellaceae': 0.0, 'Hydrogenimonaceae': 0.0, 'Thiohalobacter': 0.0, 'Celerinatantimonadaceae': 0.0, 'Fibrobacteraceae': 0.0, 'Spirulinaceae': 0.0, 'Poaceae': 0.0, 'Calditrichaceae': 2.1729614999357067e-06, 'Parvarchaeum': 0.0, 'Sphaerobacteraceae': 0.0, 'Acidiferrobacteraceae': 9.40317946564037e-06, 'Blastocatellaceae': 0.0, 'Phormidiaceae': 6.385403110213852e-06, 'Microcoleaceae': 0.0, 'Breznakiellaceae': 1.6302966820231283e-05, 'Azonexaceae': 0.0, 'Sedimentisphaeraceae': 2.2421489025381638e-07, 'Cyanomargaritaceae': 0.0, 'Chthonomonadaceae': 1.8026624920801645e-06, 'Pleurocapsaceae': 1.330328930578302e-05, 'Budviciaceae': 0.0, 'Dethiosulfovibrionaceae': 1.448836243074587e-05, 'Brevinemataceae': 0.0, 'Methylobacteriaceae': 1.2285791813314113e-05, 'Salinivirgaceae': 1.1372271840267048e-08, 'Wenzhouxiangellaceae': 0.0, 'Elusimicrobiaceae': 1.211245692519818e-05, 'Succinivibrionaceae': 1.1406040921655782e-05, 'Culicoidibacteraceae': 0.0, 'Nanosalina': 1.1500491510123348e-05, 'Zooshikellaceae': 1.606215082727272e-05, 'Kineosporiaceae': 0.0, 'AR10': 0.0, 'Lentimicrobiaceae': 0.0, 'Eubacteriales_incertae_sedis_XVI': 0.0, 'Flexilinea': 2.3993949468883082e-05, 'Heliobacteriaceae': 6.17898483896016e-07, 'Anoxybacter': 1.3384305983400868e-05, 'Sulfuricellaceae': 0.0, 'Xenococcaceae': 0.0, 'Iodidimonadaceae': 0.0, 'Actinopolymorphaceae': 0.0, 'Microcystaceae': 0.0, 'Verrucomicrobiaceae': 1.224906827385233e-05, 'Parachlamydiaceae': 0.0, 'Alteromonadaceae': 8.504891653304285e-06, 'Hydrogenothermaceae': 0.0, 'Aestuariirhabdaceae': 0.0, 'Desulfomicrobiaceae': 0.0, 'Parviterribacteraceae': 0.0, 'Vallicoccaceae': 0.0, 'Carsonella': 0.0, 'Chloroplast': 0.0, 'Rikenellaceae': 0.0, 'Haloplasmataceae': 0.0, 'Lactobacillaceae': 0.0, 'Sutterellaceae': 0.0, 'Leptolyngbyaceae': 0.0, 'Christensenellaceae': 0.0, 'Akkermansiaceae': 0.0, 'Cesiribacteraceae': 0.0, '3': 0.0, 'Staphylococcaceae': 0.0, 'Desulfovibrionaceae': 0.0, 'Thermoproteaceae': 0.0, 'Cuniculiplasmataceae': 0.0, 'Lewinellaceae': 0.0, 'Hapalosiphonaceae': 0.0, 'Cloacamonas': 0.0, 'Brocadiaceae': 0.0, 'Cardiobacteriaceae': 0.0, 'Hydrogenedens': 0.0, 'Nitrosopumilaceae': 0.0, 'Barnesiellaceae': 0.0, 'Conexivisphaeraceae': 0.0, 'Ferroplasmaceae': 0.0, 'Saccharibacteria_genera_incertae_sedis': 0.0, 'Dietziaceae': 0.0, 'Synechococcaceae': 0.0, 'Rickettsiaceae': 0.0, 'Desulfuromonadaceae': 0.0, 'Sandaracinaceae': 0.0, 'Saccharicenantaceae': 0.0, 'Ostreibacteriaceae': 0.0, 'Breoghaniaceae': 0.0, 'Aphanizomenonaceae': 0.0, 'Tepidanaerobacteraceae': 0.0, 'Methanosarcinaceae': 0.0, 'Thermospiraceae': 0.0, '4': 0.0, 'Leuconostocaceae': 0.0, 'Armatimonadaceae': 3.391894894435496e-06, 'Thermoanaerobaculaceae': 0.0, 'Pectobacteriaceae': 0.0, 'Rubrobacteraceae': 0.0, 'Thermoplasmatales_incertae_sedis': 0.0, 'Rhodothermaceae': 0.0, 'Geobacteraceae': 0.0, 'Chitinivorax': 0.0, 'Sphingomonadaceae': 0.0, 'Marinilabiliaceae': 1.9752672216446105e-07, 'Parcubacteria_genera_incertae_sedis': 0.0, 'Trichocoleaceae': 0.0, 'Kaistiaceae': 0.0, 'Natranaerofabaceae': 1.6145227277015857e-05, 'Gottschalkiaceae': 0.0, 'Deferrivibrionaceae': 0.0, 'Oceanospirillales_incertae_sedis': 0.0, 'Paraconexibacteraceae': 0.0, 'Beggiatoaceae': 0.0, 'Fimbriimonadaceae': 0.0, 'Anaplasmataceae': 0.0, 'Chlamydiaceae': 0.0, 'Fulvivirgaceae': 0.0, 'Metamycoplasmataceae': 0.0, 'Yersiniaceae': 0.0, 'Negativibacillus': 0.0, 'Rhodocyclaceae': 0.0, 'Alsobacteraceae': 0.0, 'Sporolactobacillaceae': 0.0, 'Marinifilaceae': 0.0, 'Casimicrobiaceae': 0.0, 'Aminicenantes_genera_incertae_sedis': 0.0, 'Thermococcaceae': 0.0, 'Lichenibacteriaceae': 0.0, 'X': 0.0, 'Euzebyaceae': 0.0, 'Miltoncostaeaceae': 0.0, 'Caldisericaceae': 0.0, 'Gp5': 0.0, 'Thermomonosporaceae': 0.0, 'Oxalobacteraceae': 0.0, 'Terasakiellaceae': 0.0, 'Micrococcales_incertae_sedis': 0.0, 'Halobacteriovoraceae': 0.0, 'Beijerinckiaceae': 0.0, 'Fervidicoccaceae': 0.0, 'Ferrimonadaceae': 0.0, 'Chloroflexaceae': 0.0, 'Paludibacteraceae': 0.0, 'Magnetococcaceae': 0.0, 'Desulfitobacteriaceae': 0.0, 'Methanocaldococcaceae': 0.0, 'Anaeromyxobacteraceae': 0.0, 'Xiphinematobacter': 0.0, 'Marinicella': 0.0, 'Methanocellaceae': 0.0, 'Ahrensiaceae': 0.0, 'Cryptosporangiaceae': 0.0, 'Natranaerovirga': 0.0, 'Haliangiaceae': 0.0, 'Gp25': 0.0, 'Silvanigrellaceae': 0.0, 'Helicobacteraceae': 0.0, 'Sphaerochaetaceae': 0.0, 'Plasticicumulans': 0.0, 'Deferrisomataceae': 0.0, 'Thermoleophilaceae': 0.0, 'Desulfuribacillaceae': 0.0, 'Subdivision3_genera_incertae_sedis': 0.0, 'Thermosporotrichaceae': 0.0, 'Gallaecimonas': 0.0, 'Porticoccaceae': 0.0, 'Merismopediaceae': 0.0, 'Dehalococcoidaceae': 0.0, 'Oscillochloridaceae': 0.0, 'Thalassobaculaceae': 0.0, 'Pseudoxanthobacteraceae': 0.0, 'Gp26': 0.0, 'Defluviitaleaceae': 0.0}\n"
     ]
    },
    {
     "name": "stderr",
     "output_type": "stream",
     "text": [
      "\n"
     ]
    }
   ],
   "source": [
    "mis_dict = {}\n",
    "for node in tqdm(graph.nodes):\n",
    "    num = 0\n",
    "    for j in graph.neighbors(node):\n",
    "        num += tot[j] * spearman(node, j)\n",
    "        denom += tot[j]\n",
    "    mis_dict[node] = num / denom\n",
    "\n",
    "print(mis_dict)"
   ]
  },
  {
   "cell_type": "code",
   "execution_count": 84,
   "metadata": {},
   "outputs": [
    {
     "name": "stderr",
     "output_type": "stream",
     "text": [
      "100%|██████████| 614/614 [00:00<00:00, 111799.55it/s]"
     ]
    },
    {
     "name": "stdout",
     "output_type": "stream",
     "text": [
      "0.6547715951763016\n"
     ]
    },
    {
     "name": "stderr",
     "output_type": "stream",
     "text": [
      "\n"
     ]
    }
   ],
   "source": [
    "deg_list = []\n",
    "deg_list_nonzero = []\n",
    "\n",
    "for node in graph.nodes:\n",
    "    deg = len(graph.edges(node))\n",
    "    deg_list.append(deg)\n",
    "    if deg > 0:\n",
    "        deg_list_nonzero.append(deg)\n",
    "\n",
    "mean_deg = statistics.mean(deg_list)\n",
    "\n",
    "imp = []\n",
    "for node in tqdm(graph.nodes):\n",
    "    if len(graph.edges(node)) > 2 * mean_deg:\n",
    "        imp.append(node)\n",
    "\n",
    "num = 0\n",
    "denom = 0\n",
    "for i in imp:\n",
    "    num += mis_dict[i]\n",
    "\n",
    "for i in graph.nodes:\n",
    "    denom += mis_dict[i]\n",
    "\n",
    "print(num/ denom)"
   ]
  },
  {
   "cell_type": "code",
   "execution_count": 77,
   "metadata": {},
   "outputs": [],
   "source": [
    "with open(\"../results/\"+dis+\"_mis_dict.pkl\", 'wb') as f:\n",
    "    pickle.dump(mis_dict, f)"
   ]
  },
  {
   "cell_type": "code",
   "execution_count": null,
   "metadata": {},
   "outputs": [],
   "source": []
  }
 ],
 "metadata": {
  "kernelspec": {
   "display_name": "Python 3",
   "language": "python",
   "name": "python3"
  },
  "language_info": {
   "codemirror_mode": {
    "name": "ipython",
    "version": 3
   },
   "file_extension": ".py",
   "mimetype": "text/x-python",
   "name": "python",
   "nbconvert_exporter": "python",
   "pygments_lexer": "ipython3",
   "version": "3.9.6"
  }
 },
 "nbformat": 4,
 "nbformat_minor": 2
}
