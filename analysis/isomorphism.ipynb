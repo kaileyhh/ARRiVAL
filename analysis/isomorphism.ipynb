{
 "cells": [
  {
   "cell_type": "code",
   "execution_count": 1,
   "metadata": {},
   "outputs": [],
   "source": [
    "# import statements\n",
    "\n",
    "from IPython.display import SVG\n",
    "import networkx as nx\n",
    "import glob\n",
    "import numpy as np\n",
    "import matplotlib.pyplot as plt\n",
    "import matplotlib.cm as cm\n",
    "import pickle\n",
    "from math import comb\n",
    "import statistics\n"
   ]
  },
  {
   "cell_type": "code",
   "execution_count": 3,
   "metadata": {},
   "outputs": [],
   "source": [
    "# Peptostreptococcaceae\n",
    "ibs = \"ibs\"\n",
    "ibd = \"ibd\"\n",
    "crc = \"crc\"\n",
    "classifier = 'family'\n",
    "\n",
    "ibs_files = glob.glob('../results/'+ibs+'/'+ibs+'_dicts/*')\n",
    "ibd_files = glob.glob('../results/'+ibd+'/'+ibd+'_dicts/*')\n",
    "crc_files = glob.glob('../results/'+ibs+'/'+ibs+'_dicts/*')\n",
    "\n",
    "ibs_graph = pickle.load(open(\"../results/graphs/ibs_graph.pkl\", \"rb\"))\n",
    "ibd_graph = pickle.load(open(\"../results/graphs/ibd_graph.pkl\", \"rb\"))\n",
    "crc_graph = pickle.load(open(\"../results/graphs/crc_graph.pkl\", \"rb\"))"
   ]
  },
  {
   "cell_type": "code",
   "execution_count": 27,
   "metadata": {},
   "outputs": [],
   "source": [
    "# pick patient\n",
    "pt_dis = \"ibs\"\n",
    "pt_name = \"ERR4775534\"\n",
    "indiv = pickle.load(open(\"../results/\"+pt_dis+\"/\"+pt_dis+\"_dicts/\"+pt_name+\".pkl\", \"rb\"))\n",
    "classifier = \"family\""
   ]
  },
  {
   "cell_type": "code",
   "execution_count": 34,
   "metadata": {},
   "outputs": [],
   "source": [
    "# calculate thresholds\n",
    "\n",
    "def calc_thresholds(indiv):\n",
    "    organism_count = 0\n",
    "    distinct = len(indiv[classifier])\n",
    "    seen = []\n",
    "\n",
    "    for i in indiv[classifier]:\n",
    "        organism_count += indiv[classifier][i]\n",
    "\n",
    "    vtx_list = []\n",
    "\n",
    "    for i in indiv[classifier]:\n",
    "        if indiv[classifier][i] > (organism_count / distinct) * 2:\n",
    "            vtx_list.append(i)\n",
    "    \n",
    "    return vtx_list"
   ]
  },
  {
   "cell_type": "code",
   "execution_count": 35,
   "metadata": {},
   "outputs": [],
   "source": [
    "def make_graph(vtx_list):\n",
    "    graph = nx.Graph()\n",
    "    used = []\n",
    "    for node in indiv[classifier]:\n",
    "        if node not in used:\n",
    "            graph.add_node(node, node_size=0)\n",
    "        used.append(node)    \n",
    "\n",
    "    for node in vtx_list:\n",
    "        for other in vtx_list:\n",
    "            if node != other:            \n",
    "                graph.add_edge(node, other, weight = 0.1, color = 'red')\n",
    "    \n",
    "    return graph"
   ]
  },
  {
   "cell_type": "code",
   "execution_count": 41,
   "metadata": {},
   "outputs": [
    {
     "name": "stdout",
     "output_type": "stream",
     "text": [
      "corr, 82 total: 87 ratio: 0.9425287356321839\n"
     ]
    }
   ],
   "source": [
    "nbr_list = []\n",
    "node_list = []\n",
    "num_correct = 0\n",
    "total = 0\n",
    "for file in ibs_files:\n",
    "    with open(file, 'rb') as f:\n",
    "        indiv = pickle.load(f)\n",
    "    vtx_list = calc_thresholds(indiv)\n",
    "    graph = make_graph(vtx_list)\n",
    "    ibs_sim_score = 0\n",
    "    ibd_sim_score = 0\n",
    "    count = 0\n",
    "    for node in graph.nodes:\n",
    "        for nbr in graph.neighbors(node):\n",
    "            if node in ibs_graph.nodes:\n",
    "                if nbr in ibs_graph.neighbors(node):\n",
    "                    ibs_sim_score += 1\n",
    "            if node in ibd_graph.nodes:\n",
    "                if nbr in ibd_graph.neighbors(node):\n",
    "                    ibd_sim_score += 1\n",
    "            count += 1\n",
    "    \n",
    "    if ibd_sim_score < ibs_sim_score:\n",
    "        num_correct+= 1\n",
    "    total +=1\n",
    "    nbr_list.append(count)\n",
    "    node_list.append(len(vtx_list))\n",
    "\n",
    "print(\"corr,\", num_correct, \"total:\", total, \"ratio:\", num_correct/total)\n"
   ]
  },
  {
   "cell_type": "code",
   "execution_count": 39,
   "metadata": {},
   "outputs": [
    {
     "name": "stdout",
     "output_type": "stream",
     "text": [
      "corr, 168 total: 177 ratio: 0.9491525423728814\n"
     ]
    }
   ],
   "source": [
    "num_correct = 0\n",
    "total = 0\n",
    "for file in ibd_files:\n",
    "    with open(file, 'rb') as f:\n",
    "        indiv = pickle.load(f)\n",
    "    vtx_list = calc_thresholds(indiv)\n",
    "    graph = make_graph(vtx_list)\n",
    "    ibs_sim_score = 0\n",
    "    ibd_sim_score = 0\n",
    "\n",
    "    for node in graph.nodes:\n",
    "        for nbr in graph.neighbors(node):\n",
    "            if node in ibs_graph.nodes:\n",
    "                if nbr in ibs_graph.neighbors(node):\n",
    "                    ibs_sim_score += 1\n",
    "            if node in ibd_graph.nodes:\n",
    "                if nbr in ibd_graph.neighbors(node):\n",
    "                    ibd_sim_score += 1\n",
    "    \n",
    "    if ibd_sim_score > ibs_sim_score:\n",
    "        num_correct+= 1\n",
    "    total +=1\n",
    "\n",
    "print(\"corr,\", num_correct, \"total:\", total, \"ratio:\", num_correct/total)\n"
   ]
  },
  {
   "cell_type": "code",
   "execution_count": 40,
   "metadata": {},
   "outputs": [
    {
     "name": "stdout",
     "output_type": "stream",
     "text": [
      "corr, 3 total: 87 ratio: 0.034482758620689655\n"
     ]
    }
   ],
   "source": [
    "num_correct = 0\n",
    "total = 0\n",
    "for file in crc_files:\n",
    "    with open(file, 'rb') as f:\n",
    "        indiv = pickle.load(f)\n",
    "    vtx_list = calc_thresholds(indiv)\n",
    "    graph = make_graph(vtx_list)\n",
    "    ibs_sim_score = 0\n",
    "    ibd_sim_score = 0\n",
    "\n",
    "    for node in graph.nodes:\n",
    "        for nbr in graph.neighbors(node):\n",
    "            if node in ibs_graph.nodes:\n",
    "                if nbr in ibs_graph.neighbors(node):\n",
    "                    ibs_sim_score += 1\n",
    "            if node in ibd_graph.nodes:\n",
    "                if nbr in ibd_graph.neighbors(node):\n",
    "                    ibd_sim_score += 1\n",
    "    \n",
    "    if ibd_sim_score > ibs_sim_score:\n",
    "        num_correct+= 1\n",
    "    total +=1\n",
    "\n",
    "print(\"corr,\", num_correct, \"total:\", total, \"ratio:\", num_correct/total)\n"
   ]
  },
  {
   "cell_type": "code",
   "execution_count": null,
   "metadata": {},
   "outputs": [],
   "source": [
    "nbr_list1 = []\n",
    "node_list1 = []\n",
    "nbr_list2 = []\n",
    "node_list2 = []\n",
    "num_correct = 0\n",
    "total = 0\n",
    "for file in ibs_files:\n",
    "    with open(file, 'rb') as f:\n",
    "        indiv = pickle.load(f)\n",
    "    vtx_list = calc_thresholds(indiv)\n",
    "    graph = make_graph(vtx_list)\n",
    "    ibs_sim_score = 0\n",
    "    ibd_sim_score = 0\n",
    "    count = 0\n",
    "    for node in graph.nodes:\n",
    "        for nbr in graph.neighbors(node):\n",
    "            if node in ibs_graph.nodes:\n",
    "                if nbr in ibs_graph.neighbors(node):\n",
    "                    ibs_sim_score += 1\n",
    "            if node in ibd_graph.nodes:\n",
    "                if nbr in ibd_graph.neighbors(node):\n",
    "                    ibd_sim_score += 1\n",
    "            count += 1\n",
    "    \n",
    "    if ibd_sim_score < ibs_sim_score:\n",
    "        num_correct+= 1\n",
    "        nbr_list1.append(count)\n",
    "        node_list1.append(len(vtx_list))\n",
    "    else:\n",
    "        nbr_list2.append(count)\n",
    "        node_list2.append(len(vtx_list))\n",
    "    total +=1\n",
    "\n",
    "print(\"corr,\", num_correct, \"total:\", total, \"ratio:\", num_correct/total)\n"
   ]
  }
 ],
 "metadata": {
  "kernelspec": {
   "display_name": "Python 3",
   "language": "python",
   "name": "python3"
  },
  "language_info": {
   "codemirror_mode": {
    "name": "ipython",
    "version": 3
   },
   "file_extension": ".py",
   "mimetype": "text/x-python",
   "name": "python",
   "nbconvert_exporter": "python",
   "pygments_lexer": "ipython3",
   "version": "3.9.6"
  }
 },
 "nbformat": 4,
 "nbformat_minor": 2
}
