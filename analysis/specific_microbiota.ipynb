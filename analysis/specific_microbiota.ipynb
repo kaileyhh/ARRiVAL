{
 "cells": [
  {
   "cell_type": "code",
   "execution_count": 1,
   "metadata": {},
   "outputs": [],
   "source": [
    "# import statements\n",
    "\n",
    "from IPython.display import SVG\n",
    "import networkx as nx\n",
    "import glob\n",
    "import numpy as np\n",
    "import matplotlib.pyplot as plt\n",
    "import matplotlib.cm as cm\n",
    "import pickle\n",
    "from math import comb\n",
    "import statistics\n"
   ]
  },
  {
   "cell_type": "code",
   "execution_count": 2,
   "metadata": {},
   "outputs": [],
   "source": [
    "# Peptostreptococcaceae\n",
    "ibs = \"ibs\"\n",
    "ibd = \"ibd\"\n",
    "crc = \"crc\"\n",
    "classifier = 'family'\n",
    "\n",
    "ibs_files = glob.glob('../results/'+ibs+'/'+ibs+'_dicts/*')\n",
    "ibd_files = glob.glob('../results/'+ibd+'/'+ibd+'_dicts/*')\n",
    "crc_files = glob.glob('../results/'+ibs+'/'+ibs+'_dicts/*')\n",
    "\n",
    "ibs_graph = pickle.load(open(\"../results/graphs/ibs_graph.pkl\", \"rb\"))\n",
    "ibd_graph = pickle.load(open(\"../results/graphs/ibd_graph.pkl\", \"rb\"))\n",
    "crc_graph = pickle.load(open(\"../results/graphs/crc_graph.pkl\", \"rb\"))"
   ]
  },
  {
   "cell_type": "code",
   "execution_count": 15,
   "metadata": {},
   "outputs": [
    {
     "name": "stdout",
     "output_type": "stream",
     "text": [
      "False\n",
      "0\n",
      "0\n",
      "0\n"
     ]
    }
   ],
   "source": [
    "print (\"Blautia\" in ibd_graph.nodes)\n",
    "\n",
    "print(len(ibs_graph.edges(\"Streptococcus\")))\n",
    "print(len(ibd_graph.edges(\"Streptococcus\")))\n",
    "print(len(crc_graph.edges(\"Streptococcus\")))"
   ]
  },
  {
   "cell_type": "code",
   "execution_count": null,
   "metadata": {},
   "outputs": [],
   "source": []
  },
  {
   "cell_type": "code",
   "execution_count": null,
   "metadata": {},
   "outputs": [],
   "source": []
  }
 ],
 "metadata": {
  "kernelspec": {
   "display_name": "Python 3",
   "language": "python",
   "name": "python3"
  },
  "language_info": {
   "codemirror_mode": {
    "name": "ipython",
    "version": 3
   },
   "file_extension": ".py",
   "mimetype": "text/x-python",
   "name": "python",
   "nbconvert_exporter": "python",
   "pygments_lexer": "ipython3",
   "version": "3.9.6"
  }
 },
 "nbformat": 4,
 "nbformat_minor": 2
}
