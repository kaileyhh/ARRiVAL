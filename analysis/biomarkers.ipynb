{
 "cells": [
  {
   "cell_type": "code",
   "execution_count": 3,
   "metadata": {},
   "outputs": [],
   "source": [
    "import pickle\n",
    "import glob\n",
    "import networkx as nx \n",
    "import matplotlib.pyplot as plt\n",
    "\n",
    "to_classify = [\"sample\", \"domain\", \"phylum\", \"class\", \"order\", \"family\", \"genus\"]\n",
    "classifier = \"family\""
   ]
  },
  {
   "cell_type": "code",
   "execution_count": 4,
   "metadata": {},
   "outputs": [],
   "source": [
    "ibs_graph = pickle.load(open(\"../results/graphs/ibs_graph.pkl\", \"rb\"))\n",
    "ibd_graph = pickle.load(open(\"../results/graphs/ibd_graph.pkl\", \"rb\"))\n",
    "crc_graph = pickle.load(open(\"../results/graphs/crc_graph.pkl\", \"rb\"))"
   ]
  },
  {
   "cell_type": "code",
   "execution_count": 5,
   "metadata": {},
   "outputs": [
    {
     "name": "stdout",
     "output_type": "stream",
     "text": [
      "[('Acetothermia_genera_incertae_sedis', 43), ('Desulfurococcaceae', 42), ('Isosphaeraceae', 41), ('Eggerthellaceae', 40), ('Symbiobacteriaceae', 38), ('Oscillospiraceae', 37), ('Lacipirellulaceae', 36), ('Chitinophagaceae', 34), ('Natrialbaceae', 34), ('Syntrophomonadaceae', 34), ('Archaeoglobaceae', 34), ('Haloarculaceae', 33), ('Conexivisphaeraceae', 31), ('Sulfolobaceae', 31), ('Thermaceae', 31)]\n",
      "[('Oscillospiraceae', 89), ('Lachnospiraceae', 74), ('Rikenellaceae', 64), ('Desulfovibrionaceae', 63), ('Peptostreptococcaceae', 63), ('Porphyromonadaceae', 60), ('Bacteroidaceae', 59), ('Veillonellaceae', 58), ('Sutterellaceae', 57), ('Eubacteriales_incertae_sedis_XIII', 57), ('Acidaminococcaceae', 55), ('Streptococcaceae', 55), ('Erysipelotrichaceae', 48), ('Peptococcaceae', 43), ('Barnesiellaceae', 42)]\n",
      "[('Eubacteriales_incertae_sedis_XI', 281), ('Phycisphaeraceae', 278), ('Flavobacteriaceae', 273), ('Haloarculaceae', 269), ('Isosphaeraceae', 267), ('Gemmataceae', 263), ('Aestuariivirgaceae', 255), ('Acetobacteraceae', 250), ('Neisseriaceae', 250), ('Puniceicoccaceae', 247), ('Thermoguttaceae', 245), ('Gynuellaceae', 245), ('Xanthobacteraceae', 243), ('Caryophanaceae', 239), ('Bernardetiaceae', 236)]\n"
     ]
    }
   ],
   "source": [
    "high_deg_ibs = sorted(ibs_graph.degree, key=lambda x: x[1], reverse=True)[:15]\n",
    "high_deg_ibd = sorted(ibd_graph.degree, key=lambda x: x[1], reverse=True)[:15]\n",
    "high_deg_crc = sorted(crc_graph.degree, key=lambda x: x[1], reverse=True)[:15]\n",
    "\n",
    "print(high_deg_ibs)\n",
    "print(high_deg_ibd)\n",
    "print(high_deg_crc)"
   ]
  },
  {
   "cell_type": "code",
   "execution_count": null,
   "metadata": {},
   "outputs": [],
   "source": []
  }
 ],
 "metadata": {
  "kernelspec": {
   "display_name": "Python 3",
   "language": "python",
   "name": "python3"
  },
  "language_info": {
   "codemirror_mode": {
    "name": "ipython",
    "version": 3
   },
   "file_extension": ".py",
   "mimetype": "text/x-python",
   "name": "python",
   "nbconvert_exporter": "python",
   "pygments_lexer": "ipython3",
   "version": "3.9.6"
  }
 },
 "nbformat": 4,
 "nbformat_minor": 2
}
