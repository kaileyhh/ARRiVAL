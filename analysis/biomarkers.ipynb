{
 "cells": [
  {
   "cell_type": "code",
   "execution_count": 3,
   "metadata": {},
   "outputs": [],
   "source": [
    "import pickle\n",
    "import glob\n",
    "import networkx as nx \n",
    "import matplotlib.pyplot as plt\n",
    "\n",
    "to_classify = [\"sample\", \"domain\", \"phylum\", \"class\", \"order\", \"family\", \"genus\"]\n",
    "classifier = \"family\""
   ]
  },
  {
   "cell_type": "code",
   "execution_count": 4,
   "metadata": {},
   "outputs": [],
   "source": [
    "ibs_graph = pickle.load(open(\"../results/graphs/ibs_graph.pkl\", \"rb\"))\n",
    "ibd_graph = pickle.load(open(\"../results/graphs/ibd_graph.pkl\", \"rb\"))\n",
    "crc_graph = pickle.load(open(\"../results/graphs/crc_graph.pkl\", \"rb\"))"
   ]
  },
  {
   "cell_type": "code",
   "execution_count": null,
   "metadata": {},
   "outputs": [],
   "source": [
    "high_deg_ibs = sorted(ibs_graph.degree, key=lambda x: x[1], reverse=True)[:15]\n",
    "high_deg_ibd = sorted(ibd_graph.degree, key=lambda x: x[1], reverse=True)[:15]\n",
    "high_deg_crc = sorted(crc_graph.degree, key=lambda x: x[1], reverse=True)[:15]\n",
    "\n",
    "print(high_deg_ibs)\n",
    "print(high_deg_ibd)\n",
    "print(high_deg_crc)"
   ]
  }
 ],
 "metadata": {
  "kernelspec": {
   "display_name": "Python 3",
   "language": "python",
   "name": "python3"
  },
  "language_info": {
   "codemirror_mode": {
    "name": "ipython",
    "version": 3
   },
   "file_extension": ".py",
   "mimetype": "text/x-python",
   "name": "python",
   "nbconvert_exporter": "python",
   "pygments_lexer": "ipython3",
   "version": "3.9.6"
  }
 },
 "nbformat": 4,
 "nbformat_minor": 2
}
