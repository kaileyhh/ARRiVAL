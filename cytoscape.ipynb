{
 "cells": [
  {
   "cell_type": "code",
   "execution_count": 9,
   "metadata": {},
   "outputs": [],
   "source": [
    "import networkx as nx\n",
    "import pickle \n",
    "# Replace \"path/to/your/graph.pickle\" with the actual path\n",
    "def convert_pickle_to_cytoscape(pickle_filepath):\n",
    "  \"\"\"\n",
    "  Converts a NetworkX graph stored in a pickle file to a Cytoscape GraphML file.\n",
    "\n",
    "  Args:\n",
    "      pickle_filepath (str): Path to the pickle file containing the graph.\n",
    "  \"\"\"\n",
    "  # Load the graph from the pickle file\n",
    "  G = ibs_graph = pickle.load(open(pickle_filepath, \"rb\"))\n",
    "\n",
    "  # Write the graph to a Cytoscape GraphML file\n",
    "  nx.write_graphml(G, f\"{pickle_filepath[:3]}.graphml\")  # You can change the output filename here\n",
    "# Example usage\n",
    "convert_pickle_to_cytoscape(\"crc_graph.pkl\")\n",
    "convert_pickle_to_cytoscape(\"ibd_graph.pkl\")\n",
    "convert_pickle_to_cytoscape(\"ibs_graph.pkl\")"
   ]
  }
 ],
 "metadata": {
  "kernelspec": {
   "display_name": "Python 3",
   "language": "python",
   "name": "python3"
  },
  "language_info": {
   "codemirror_mode": {
    "name": "ipython",
    "version": 3
   },
   "file_extension": ".py",
   "mimetype": "text/x-python",
   "name": "python",
   "nbconvert_exporter": "python",
   "pygments_lexer": "ipython3",
   "version": "3.10.6"
  },
  "orig_nbformat": 4
 },
 "nbformat": 4,
 "nbformat_minor": 2
}
